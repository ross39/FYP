{
 "cells": [
  {
   "cell_type": "markdown",
   "metadata": {},
   "source": [
    "## My fake news prototype\n"
   ]
  },
  {
   "cell_type": "markdown",
   "metadata": {},
   "source": [
    "Comprises of two data files \n",
    "\n",
    "1 real news.csv file \n",
    "\n",
    "1 fake news.csv file \n",
    "\n",
    "I can add more later on \n",
    "\n",
    "Idea is to build a model and attach it to a chrome extension and have it highlight possible fake news articles \n",
    "\n",
    "I have also decided to possibly add in data from reddit posts from r/TheOnion and r/nottheonion.\n",
    "\n",
    "The data in the fake.csv and real_news.csv has been authenticated from the people over at Kaggle\n",
    "\n",
    "Using data from nottheonion is hard to authenticate due to the volume of posts however I am hoping that the users and moderators of the subreddit have filtered out those that are obviously not true."
   ]
  },
  {
   "cell_type": "code",
   "execution_count": 4,
   "metadata": {},
   "outputs": [],
   "source": [
    "import numpy as np # linear algebra\n",
    "import pandas as pd # data processing, CSV file I/O (e.g. pd.read_csv)\n",
    "\n",
    "import sys\n",
    "import csv\n",
    "\n",
    "csv.field_size_limit(sys.maxsize)\n",
    "\n",
    "# API scrape \n",
    "from psaw import PushshiftAPI\n",
    "\n",
    "# Basic libraries\n",
    "import numpy as np\n",
    "import pandas as pd\n",
    "\n",
    "# Data Visualization\n",
    "import matplotlib.pyplot as plt\n",
    "import seaborn as sns\n",
    "%config InlineBackend.figure_format = 'retina'\n",
    "%matplotlib inline\n",
    "\n",
    "# Natural Language Processing\n",
    "from sklearn.feature_extraction import stop_words\n",
    "from sklearn.feature_extraction.text import CountVectorizer, TfidfVectorizer\n",
    "\n",
    "# Modeling\n",
    "from sklearn.linear_model import LogisticRegression\n",
    "from sklearn.model_selection import train_test_split, GridSearchCV\n",
    "from sklearn.pipeline import Pipeline\n",
    "from sklearn.naive_bayes import MultinomialNB\n",
    "from sklearn import metrics\n",
    "from sklearn.metrics import accuracy_score, recall_score, precision_score, confusion_matrix\n"
   ]
  },
  {
   "cell_type": "code",
   "execution_count": 5,
   "metadata": {},
   "outputs": [],
   "source": [
    "fake_news = pd.read_csv(\"/Users/rossheaney/Desktop/Workspace/FourthYear/FYP/FakeNewsPrototype/Data/fake.csv\", engine='python')\n",
    "real_news = pd.read_csv(\"/Users/rossheaney/Desktop/Workspace/FourthYear/FYP/FakeNewsPrototype/Data/real_news.csv\", engine='python')"
   ]
  },
  {
   "cell_type": "markdown",
   "metadata": {},
   "source": [
    "## Lets see the shape of our dataset "
   ]
  },
  {
   "cell_type": "code",
   "execution_count": 6,
   "metadata": {},
   "outputs": [
    {
     "name": "stdout",
     "output_type": "stream",
     "text": [
      "(18001, 699)\n",
      "(15712, 11)\n"
     ]
    }
   ],
   "source": [
    "print(fake_news.shape)\n",
    "print(real_news.shape)"
   ]
  },
  {
   "cell_type": "markdown",
   "metadata": {},
   "source": [
    "### Lets see the columns "
   ]
  },
  {
   "cell_type": "code",
   "execution_count": 7,
   "metadata": {},
   "outputs": [
    {
     "name": "stdout",
     "output_type": "stream",
     "text": [
      "['uuid', 'ord_in_thread', 'author', 'published', 'title', 'text', 'language', 'crawled', 'site_url', 'country', 'domain_rank', 'thread_title', 'spam_score', 'main_img_url', 'replies_count', 'participants_count', 'likes', 'comments', 'shares', 'type', 'Unnamed: 20', 'Unnamed: 21', 'Unnamed: 22', 'Unnamed: 23', 'Unnamed: 24', 'Unnamed: 25', 'Unnamed: 26', 'Unnamed: 27', 'Unnamed: 28', 'Unnamed: 29', 'Unnamed: 30', 'Unnamed: 31', 'Unnamed: 32', 'Unnamed: 33', 'Unnamed: 34', 'Unnamed: 35', 'Unnamed: 36', 'Unnamed: 37', 'Unnamed: 38', 'Unnamed: 39', 'Unnamed: 40', 'Unnamed: 41', 'Unnamed: 42', 'Unnamed: 43', 'Unnamed: 44', 'Unnamed: 45', 'Unnamed: 46', 'Unnamed: 47', 'Unnamed: 48', 'Unnamed: 49', 'Unnamed: 50', 'Unnamed: 51', 'Unnamed: 52', 'Unnamed: 53', 'Unnamed: 54', 'Unnamed: 55', 'Unnamed: 56', 'Unnamed: 57', 'Unnamed: 58', 'Unnamed: 59', 'Unnamed: 60', 'Unnamed: 61', 'Unnamed: 62', 'Unnamed: 63', 'Unnamed: 64', 'Unnamed: 65', 'Unnamed: 66', 'Unnamed: 67', 'Unnamed: 68', 'Unnamed: 69', 'Unnamed: 70', 'Unnamed: 71', 'Unnamed: 72', 'Unnamed: 73', 'Unnamed: 74', 'Unnamed: 75', 'Unnamed: 76', 'Unnamed: 77', 'Unnamed: 78', 'Unnamed: 79', 'Unnamed: 80', 'Unnamed: 81', 'Unnamed: 82', 'Unnamed: 83', 'Unnamed: 84', 'Unnamed: 85', 'Unnamed: 86', 'Unnamed: 87', 'Unnamed: 88', 'Unnamed: 89', 'Unnamed: 90', 'Unnamed: 91', 'Unnamed: 92', 'Unnamed: 93', 'Unnamed: 94', 'Unnamed: 95', 'Unnamed: 96', 'Unnamed: 97', 'Unnamed: 98', 'Unnamed: 99', 'Unnamed: 100', 'Unnamed: 101', 'Unnamed: 102', 'Unnamed: 103', 'Unnamed: 104', 'Unnamed: 105', 'Unnamed: 106', 'Unnamed: 107', 'Unnamed: 108', 'Unnamed: 109', 'Unnamed: 110', 'Unnamed: 111', 'Unnamed: 112', 'Unnamed: 113', 'Unnamed: 114', 'Unnamed: 115', 'Unnamed: 116', 'Unnamed: 117', 'Unnamed: 118', 'Unnamed: 119', 'Unnamed: 120', 'Unnamed: 121', 'Unnamed: 122', 'Unnamed: 123', 'Unnamed: 124', 'Unnamed: 125', 'Unnamed: 126', 'Unnamed: 127', 'Unnamed: 128', 'Unnamed: 129', 'Unnamed: 130', 'Unnamed: 131', 'Unnamed: 132', 'Unnamed: 133', 'Unnamed: 134', 'Unnamed: 135', 'Unnamed: 136', 'Unnamed: 137', 'Unnamed: 138', 'Unnamed: 139', 'Unnamed: 140', 'Unnamed: 141', 'Unnamed: 142', 'Unnamed: 143', 'Unnamed: 144', 'Unnamed: 145', 'Unnamed: 146', 'Unnamed: 147', 'Unnamed: 148', 'Unnamed: 149', 'Unnamed: 150', 'Unnamed: 151', 'Unnamed: 152', 'Unnamed: 153', 'Unnamed: 154', 'Unnamed: 155', 'Unnamed: 156', 'Unnamed: 157', 'Unnamed: 158', 'Unnamed: 159', 'Unnamed: 160', 'Unnamed: 161', 'Unnamed: 162', 'Unnamed: 163', 'Unnamed: 164', 'Unnamed: 165', 'Unnamed: 166', 'Unnamed: 167', 'Unnamed: 168', 'Unnamed: 169', 'Unnamed: 170', 'Unnamed: 171', 'Unnamed: 172', 'Unnamed: 173', 'Unnamed: 174', 'Unnamed: 175', 'Unnamed: 176', 'Unnamed: 177', 'Unnamed: 178', 'Unnamed: 179', 'Unnamed: 180', 'Unnamed: 181', 'Unnamed: 182', 'Unnamed: 183', 'Unnamed: 184', 'Unnamed: 185', 'Unnamed: 186', 'Unnamed: 187', 'Unnamed: 188', 'Unnamed: 189', 'Unnamed: 190', 'Unnamed: 191', 'Unnamed: 192', 'Unnamed: 193', 'Unnamed: 194', 'Unnamed: 195', 'Unnamed: 196', 'Unnamed: 197', 'Unnamed: 198', 'Unnamed: 199', 'Unnamed: 200', 'Unnamed: 201', 'Unnamed: 202', 'Unnamed: 203', 'Unnamed: 204', 'Unnamed: 205', 'Unnamed: 206', 'Unnamed: 207', 'Unnamed: 208', 'Unnamed: 209', 'Unnamed: 210', 'Unnamed: 211', 'Unnamed: 212', 'Unnamed: 213', 'Unnamed: 214', 'Unnamed: 215', 'Unnamed: 216', 'Unnamed: 217', 'Unnamed: 218', 'Unnamed: 219', 'Unnamed: 220', 'Unnamed: 221', 'Unnamed: 222', 'Unnamed: 223', 'Unnamed: 224', 'Unnamed: 225', 'Unnamed: 226', 'Unnamed: 227', 'Unnamed: 228', 'Unnamed: 229', 'Unnamed: 230', 'Unnamed: 231', 'Unnamed: 232', 'Unnamed: 233', 'Unnamed: 234', 'Unnamed: 235', 'Unnamed: 236', 'Unnamed: 237', 'Unnamed: 238', 'Unnamed: 239', 'Unnamed: 240', 'Unnamed: 241', 'Unnamed: 242', 'Unnamed: 243', 'Unnamed: 244', 'Unnamed: 245', 'Unnamed: 246', 'Unnamed: 247', 'Unnamed: 248', 'Unnamed: 249', 'Unnamed: 250', 'Unnamed: 251', 'Unnamed: 252', 'Unnamed: 253', 'Unnamed: 254', 'Unnamed: 255', 'Unnamed: 256', 'Unnamed: 257', 'Unnamed: 258', 'Unnamed: 259', 'Unnamed: 260', 'Unnamed: 261', 'Unnamed: 262', 'Unnamed: 263', 'Unnamed: 264', 'Unnamed: 265', 'Unnamed: 266', 'Unnamed: 267', 'Unnamed: 268', 'Unnamed: 269', 'Unnamed: 270', 'Unnamed: 271', 'Unnamed: 272', 'Unnamed: 273', 'Unnamed: 274', 'Unnamed: 275', 'Unnamed: 276', 'Unnamed: 277', 'Unnamed: 278', 'Unnamed: 279', 'Unnamed: 280', 'Unnamed: 281', 'Unnamed: 282', 'Unnamed: 283', 'Unnamed: 284', 'Unnamed: 285', 'Unnamed: 286', 'Unnamed: 287', 'Unnamed: 288', 'Unnamed: 289', 'Unnamed: 290', 'Unnamed: 291', 'Unnamed: 292', 'Unnamed: 293', 'Unnamed: 294', 'Unnamed: 295', 'Unnamed: 296', 'Unnamed: 297', 'Unnamed: 298', 'Unnamed: 299', 'Unnamed: 300', 'Unnamed: 301', 'Unnamed: 302', 'Unnamed: 303', 'Unnamed: 304', 'Unnamed: 305', 'Unnamed: 306', 'Unnamed: 307', 'Unnamed: 308', 'Unnamed: 309', 'Unnamed: 310', 'Unnamed: 311', 'Unnamed: 312', 'Unnamed: 313', 'Unnamed: 314', 'Unnamed: 315', 'Unnamed: 316', 'Unnamed: 317', 'Unnamed: 318', 'Unnamed: 319', 'Unnamed: 320', 'Unnamed: 321', 'Unnamed: 322', 'Unnamed: 323', 'Unnamed: 324', 'Unnamed: 325', 'Unnamed: 326', 'Unnamed: 327', 'Unnamed: 328', 'Unnamed: 329', 'Unnamed: 330', 'Unnamed: 331', 'Unnamed: 332', 'Unnamed: 333', 'Unnamed: 334', 'Unnamed: 335', 'Unnamed: 336', 'Unnamed: 337', 'Unnamed: 338', 'Unnamed: 339', 'Unnamed: 340', 'Unnamed: 341', 'Unnamed: 342', 'Unnamed: 343', 'Unnamed: 344', 'Unnamed: 345', 'Unnamed: 346', 'Unnamed: 347', 'Unnamed: 348', 'Unnamed: 349', 'Unnamed: 350', 'Unnamed: 351', 'Unnamed: 352', 'Unnamed: 353', 'Unnamed: 354', 'Unnamed: 355', 'Unnamed: 356', 'Unnamed: 357', 'Unnamed: 358', 'Unnamed: 359', 'Unnamed: 360', 'Unnamed: 361', 'Unnamed: 362', 'Unnamed: 363', 'Unnamed: 364', 'Unnamed: 365', 'Unnamed: 366', 'Unnamed: 367', 'Unnamed: 368', 'Unnamed: 369', 'Unnamed: 370', 'Unnamed: 371', 'Unnamed: 372', 'Unnamed: 373', 'Unnamed: 374', 'Unnamed: 375', 'Unnamed: 376', 'Unnamed: 377', 'Unnamed: 378', 'Unnamed: 379', 'Unnamed: 380', 'Unnamed: 381', 'Unnamed: 382', 'Unnamed: 383', 'Unnamed: 384', 'Unnamed: 385', 'Unnamed: 386', 'Unnamed: 387', 'Unnamed: 388', 'Unnamed: 389', 'Unnamed: 390', 'Unnamed: 391', 'Unnamed: 392', 'Unnamed: 393', 'Unnamed: 394', 'Unnamed: 395', 'Unnamed: 396', 'Unnamed: 397', 'Unnamed: 398', 'Unnamed: 399', 'Unnamed: 400', 'Unnamed: 401', 'Unnamed: 402', 'Unnamed: 403', 'Unnamed: 404', 'Unnamed: 405', 'Unnamed: 406', 'Unnamed: 407', 'Unnamed: 408', 'Unnamed: 409', 'Unnamed: 410', 'Unnamed: 411', 'Unnamed: 412', 'Unnamed: 413', 'Unnamed: 414', 'Unnamed: 415', 'Unnamed: 416', 'Unnamed: 417', 'Unnamed: 418', 'Unnamed: 419', 'Unnamed: 420', 'Unnamed: 421', 'Unnamed: 422', 'Unnamed: 423', 'Unnamed: 424', 'Unnamed: 425', 'Unnamed: 426', 'Unnamed: 427', 'Unnamed: 428', 'Unnamed: 429', 'Unnamed: 430', 'Unnamed: 431', 'Unnamed: 432', 'Unnamed: 433', 'Unnamed: 434', 'Unnamed: 435', 'Unnamed: 436', 'Unnamed: 437', 'Unnamed: 438', 'Unnamed: 439', 'Unnamed: 440', 'Unnamed: 441', 'Unnamed: 442', 'Unnamed: 443', 'Unnamed: 444', 'Unnamed: 445', 'Unnamed: 446', 'Unnamed: 447', 'Unnamed: 448', 'Unnamed: 449', 'Unnamed: 450', 'Unnamed: 451', 'Unnamed: 452', 'Unnamed: 453', 'Unnamed: 454', 'Unnamed: 455', 'Unnamed: 456', 'Unnamed: 457', 'Unnamed: 458', 'Unnamed: 459', 'Unnamed: 460', 'Unnamed: 461', 'Unnamed: 462', 'Unnamed: 463', 'Unnamed: 464', 'Unnamed: 465', 'Unnamed: 466', 'Unnamed: 467', 'Unnamed: 468', 'Unnamed: 469', 'Unnamed: 470', 'Unnamed: 471', 'Unnamed: 472', 'Unnamed: 473', 'Unnamed: 474', 'Unnamed: 475', 'Unnamed: 476', 'Unnamed: 477', 'Unnamed: 478', 'Unnamed: 479', 'Unnamed: 480', 'Unnamed: 481', 'Unnamed: 482', 'Unnamed: 483', 'Unnamed: 484', 'Unnamed: 485', 'Unnamed: 486', 'Unnamed: 487', 'Unnamed: 488', 'Unnamed: 489', 'Unnamed: 490', 'Unnamed: 491', 'Unnamed: 492', 'Unnamed: 493', 'Unnamed: 494', 'Unnamed: 495', 'Unnamed: 496', 'Unnamed: 497', 'Unnamed: 498', 'Unnamed: 499', 'Unnamed: 500', 'Unnamed: 501', 'Unnamed: 502', 'Unnamed: 503', 'Unnamed: 504', 'Unnamed: 505', 'Unnamed: 506', 'Unnamed: 507', 'Unnamed: 508', 'Unnamed: 509', 'Unnamed: 510', 'Unnamed: 511', 'Unnamed: 512', 'Unnamed: 513', 'Unnamed: 514', 'Unnamed: 515', 'Unnamed: 516', 'Unnamed: 517', 'Unnamed: 518', 'Unnamed: 519', 'Unnamed: 520', 'Unnamed: 521', 'Unnamed: 522', 'Unnamed: 523', 'Unnamed: 524', 'Unnamed: 525', 'Unnamed: 526', 'Unnamed: 527', 'Unnamed: 528', 'Unnamed: 529', 'Unnamed: 530', 'Unnamed: 531', 'Unnamed: 532', 'Unnamed: 533', 'Unnamed: 534', 'Unnamed: 535', 'Unnamed: 536', 'Unnamed: 537', 'Unnamed: 538', 'Unnamed: 539', 'Unnamed: 540', 'Unnamed: 541', 'Unnamed: 542', 'Unnamed: 543', 'Unnamed: 544', 'Unnamed: 545', 'Unnamed: 546', 'Unnamed: 547', 'Unnamed: 548', 'Unnamed: 549', 'Unnamed: 550', 'Unnamed: 551', 'Unnamed: 552', 'Unnamed: 553', 'Unnamed: 554', 'Unnamed: 555', 'Unnamed: 556', 'Unnamed: 557', 'Unnamed: 558', 'Unnamed: 559', 'Unnamed: 560', 'Unnamed: 561', 'Unnamed: 562', 'Unnamed: 563', 'Unnamed: 564', 'Unnamed: 565', 'Unnamed: 566', 'Unnamed: 567', 'Unnamed: 568', 'Unnamed: 569', 'Unnamed: 570', 'Unnamed: 571', 'Unnamed: 572', 'Unnamed: 573', 'Unnamed: 574', 'Unnamed: 575', 'Unnamed: 576', 'Unnamed: 577', 'Unnamed: 578', 'Unnamed: 579', 'Unnamed: 580', 'Unnamed: 581', 'Unnamed: 582', 'Unnamed: 583', 'Unnamed: 584', 'Unnamed: 585', 'Unnamed: 586', 'Unnamed: 587', 'Unnamed: 588', 'Unnamed: 589', 'Unnamed: 590', 'Unnamed: 591', 'Unnamed: 592', 'Unnamed: 593', 'Unnamed: 594', 'Unnamed: 595', 'Unnamed: 596', 'Unnamed: 597', 'Unnamed: 598', 'Unnamed: 599', 'Unnamed: 600', 'Unnamed: 601', 'Unnamed: 602', 'Unnamed: 603', 'Unnamed: 604', 'Unnamed: 605', 'Unnamed: 606', 'Unnamed: 607', 'Unnamed: 608', 'Unnamed: 609', 'Unnamed: 610', 'Unnamed: 611', 'Unnamed: 612', 'Unnamed: 613', 'Unnamed: 614', 'Unnamed: 615', 'Unnamed: 616', 'Unnamed: 617', 'Unnamed: 618', 'Unnamed: 619', 'Unnamed: 620', 'Unnamed: 621', 'Unnamed: 622', 'Unnamed: 623', 'Unnamed: 624', 'Unnamed: 625', 'Unnamed: 626', 'Unnamed: 627', 'Unnamed: 628', 'Unnamed: 629', 'Unnamed: 630', 'Unnamed: 631', 'Unnamed: 632', 'Unnamed: 633', 'Unnamed: 634', 'Unnamed: 635', 'Unnamed: 636', 'Unnamed: 637', 'Unnamed: 638', 'Unnamed: 639', 'Unnamed: 640', 'Unnamed: 641', 'Unnamed: 642', 'Unnamed: 643', 'Unnamed: 644', 'Unnamed: 645', 'Unnamed: 646', 'Unnamed: 647', 'Unnamed: 648', 'Unnamed: 649', 'Unnamed: 650', 'Unnamed: 651', 'Unnamed: 652', 'Unnamed: 653', 'Unnamed: 654', 'Unnamed: 655', 'Unnamed: 656', 'Unnamed: 657', 'Unnamed: 658', 'Unnamed: 659', 'Unnamed: 660', 'Unnamed: 661', 'Unnamed: 662', 'Unnamed: 663', 'Unnamed: 664', 'Unnamed: 665', 'Unnamed: 666', 'Unnamed: 667', 'Unnamed: 668', 'Unnamed: 669', 'Unnamed: 670', 'Unnamed: 671', 'Unnamed: 672', 'Unnamed: 673', 'Unnamed: 674', 'Unnamed: 675', 'Unnamed: 676', 'Unnamed: 677', 'Unnamed: 678', 'Unnamed: 679', 'Unnamed: 680', 'Unnamed: 681', 'Unnamed: 682', 'Unnamed: 683', 'Unnamed: 684', 'Unnamed: 685', 'Unnamed: 686', 'Unnamed: 687', 'Unnamed: 688', 'Unnamed: 689', 'Unnamed: 690', 'Unnamed: 691', 'Unnamed: 692', 'Unnamed: 693', 'Unnamed: 694', 'Unnamed: 695', 'Unnamed: 696', 'Unnamed: 697', 'Unnamed: 698']\n",
      "['Unnamed: 0', 'Unnamed: 0.1', 'id', 'title', 'publication', 'author', 'date', 'year', 'month', 'url', 'content']\n"
     ]
    }
   ],
   "source": [
    "print(list(fake_news.columns))\n",
    "print(list(real_news.columns))"
   ]
  },
  {
   "cell_type": "code",
   "execution_count": 8,
   "metadata": {},
   "outputs": [
    {
     "name": "stderr",
     "output_type": "stream",
     "text": [
      "//anaconda3/lib/python3.7/site-packages/ipykernel_launcher.py:5: SettingWithCopyWarning: \n",
      "A value is trying to be set on a copy of a slice from a DataFrame.\n",
      "Try using .loc[row_indexer,col_indexer] = value instead\n",
      "\n",
      "See the caveats in the documentation: http://pandas.pydata.org/pandas-docs/stable/indexing.html#indexing-view-versus-copy\n",
      "  \"\"\"\n"
     ]
    },
    {
     "data": {
      "text/html": [
       "<div>\n",
       "<style scoped>\n",
       "    .dataframe tbody tr th:only-of-type {\n",
       "        vertical-align: middle;\n",
       "    }\n",
       "\n",
       "    .dataframe tbody tr th {\n",
       "        vertical-align: top;\n",
       "    }\n",
       "\n",
       "    .dataframe thead th {\n",
       "        text-align: right;\n",
       "    }\n",
       "</style>\n",
       "<table border=\"1\" class=\"dataframe\">\n",
       "  <thead>\n",
       "    <tr style=\"text-align: right;\">\n",
       "      <th></th>\n",
       "      <th>title</th>\n",
       "      <th>content</th>\n",
       "      <th>publication</th>\n",
       "      <th>label</th>\n",
       "    </tr>\n",
       "  </thead>\n",
       "  <tbody>\n",
       "    <tr>\n",
       "      <th>0</th>\n",
       "      <td>House Republicans Fret About Winning Their Hea...</td>\n",
       "      <td>WASHINGTON  —   Congressional Republicans have...</td>\n",
       "      <td>New York Times</td>\n",
       "      <td>real</td>\n",
       "    </tr>\n",
       "    <tr>\n",
       "      <th>1</th>\n",
       "      <td>First, a Mixtape. Then a Romance. - The New Yo...</td>\n",
       "      <td>Just how   is Hillary Kerr, the    founder of ...</td>\n",
       "      <td>New York Times</td>\n",
       "      <td>real</td>\n",
       "    </tr>\n",
       "    <tr>\n",
       "      <th>2</th>\n",
       "      <td>Calling on Angels While Enduring the Trials of...</td>\n",
       "      <td>Angels are everywhere in the Muñiz family’s ap...</td>\n",
       "      <td>New York Times</td>\n",
       "      <td>real</td>\n",
       "    </tr>\n",
       "    <tr>\n",
       "      <th>3</th>\n",
       "      <td>U.S. Plans to Step Up Military Campaign Agains...</td>\n",
       "      <td>ABU DHABI, United Arab Emirates  —   The Obama...</td>\n",
       "      <td>New York Times</td>\n",
       "      <td>real</td>\n",
       "    </tr>\n",
       "    <tr>\n",
       "      <th>4</th>\n",
       "      <td>272 Slaves Were Sold to Save Georgetown. What ...</td>\n",
       "      <td>WASHINGTON  —   The human cargo was loaded on ...</td>\n",
       "      <td>New York Times</td>\n",
       "      <td>real</td>\n",
       "    </tr>\n",
       "    <tr>\n",
       "      <th>5</th>\n",
       "      <td>Among Travelers and Commuters, the Homeless St...</td>\n",
       "      <td>Wilson Silva said he knew the homeless situati...</td>\n",
       "      <td>New York Times</td>\n",
       "      <td>real</td>\n",
       "    </tr>\n",
       "    <tr>\n",
       "      <th>6</th>\n",
       "      <td>Bus Bombing in Jerusalem Wounds 21 - The New Y...</td>\n",
       "      <td>JERUSALEM  —   A bomb exploded on a bus in Jer...</td>\n",
       "      <td>New York Times</td>\n",
       "      <td>real</td>\n",
       "    </tr>\n",
       "    <tr>\n",
       "      <th>7</th>\n",
       "      <td>Syria Cease-Fire Crumbles as Bombings Kill Doz...</td>\n",
       "      <td>BEIRUT, Lebanon  —   For 38 straight days, the...</td>\n",
       "      <td>New York Times</td>\n",
       "      <td>real</td>\n",
       "    </tr>\n",
       "    <tr>\n",
       "      <th>8</th>\n",
       "      <td>Iceland’s Water Cure - The New York Times</td>\n",
       "      <td>On a frigid February day in Reykjavik, I stood...</td>\n",
       "      <td>New York Times</td>\n",
       "      <td>real</td>\n",
       "    </tr>\n",
       "    <tr>\n",
       "      <th>9</th>\n",
       "      <td>Get to Know the Historical Figures on the $5, ...</td>\n",
       "      <td>WASHINGTON  —   The Treasury Department announ...</td>\n",
       "      <td>New York Times</td>\n",
       "      <td>real</td>\n",
       "    </tr>\n",
       "    <tr>\n",
       "      <th>10</th>\n",
       "      <td>Ramsay Bolton of ‘Game of Thrones’ Is the Most...</td>\n",
       "      <td>BEVERLY HILLS, CALIF.  —   Like many successfu...</td>\n",
       "      <td>New York Times</td>\n",
       "      <td>real</td>\n",
       "    </tr>\n",
       "    <tr>\n",
       "      <th>11</th>\n",
       "      <td>Fiat Chrysler Announces Recall of 1.1 Million ...</td>\n",
       "      <td>DETROIT  —   Fiat Chrysler said on Friday that...</td>\n",
       "      <td>New York Times</td>\n",
       "      <td>real</td>\n",
       "    </tr>\n",
       "    <tr>\n",
       "      <th>12</th>\n",
       "      <td>Prince Is Mourned by Fashion World, Which Coun...</td>\n",
       "      <td>Prince wasn’t someone many people said no to. ...</td>\n",
       "      <td>New York Times</td>\n",
       "      <td>real</td>\n",
       "    </tr>\n",
       "    <tr>\n",
       "      <th>13</th>\n",
       "      <td>Prince, an Artist Who Defied Genre, Is Dead at...</td>\n",
       "      <td>Prince, the songwriter, singer, producer,   st...</td>\n",
       "      <td>New York Times</td>\n",
       "      <td>real</td>\n",
       "    </tr>\n",
       "    <tr>\n",
       "      <th>14</th>\n",
       "      <td>Melissa Gilbert Never Saw Congress in Her Futu...</td>\n",
       "      <td>As a child, you played Laura Ingalls Wilder in...</td>\n",
       "      <td>New York Times</td>\n",
       "      <td>real</td>\n",
       "    </tr>\n",
       "  </tbody>\n",
       "</table>\n",
       "</div>"
      ],
      "text/plain": [
       "                                                title  \\\n",
       "0   House Republicans Fret About Winning Their Hea...   \n",
       "1   First, a Mixtape. Then a Romance. - The New Yo...   \n",
       "2   Calling on Angels While Enduring the Trials of...   \n",
       "3   U.S. Plans to Step Up Military Campaign Agains...   \n",
       "4   272 Slaves Were Sold to Save Georgetown. What ...   \n",
       "5   Among Travelers and Commuters, the Homeless St...   \n",
       "6   Bus Bombing in Jerusalem Wounds 21 - The New Y...   \n",
       "7   Syria Cease-Fire Crumbles as Bombings Kill Doz...   \n",
       "8           Iceland’s Water Cure - The New York Times   \n",
       "9   Get to Know the Historical Figures on the $5, ...   \n",
       "10  Ramsay Bolton of ‘Game of Thrones’ Is the Most...   \n",
       "11  Fiat Chrysler Announces Recall of 1.1 Million ...   \n",
       "12  Prince Is Mourned by Fashion World, Which Coun...   \n",
       "13  Prince, an Artist Who Defied Genre, Is Dead at...   \n",
       "14  Melissa Gilbert Never Saw Congress in Her Futu...   \n",
       "\n",
       "                                              content     publication label  \n",
       "0   WASHINGTON  —   Congressional Republicans have...  New York Times  real  \n",
       "1   Just how   is Hillary Kerr, the    founder of ...  New York Times  real  \n",
       "2   Angels are everywhere in the Muñiz family’s ap...  New York Times  real  \n",
       "3   ABU DHABI, United Arab Emirates  —   The Obama...  New York Times  real  \n",
       "4   WASHINGTON  —   The human cargo was loaded on ...  New York Times  real  \n",
       "5   Wilson Silva said he knew the homeless situati...  New York Times  real  \n",
       "6   JERUSALEM  —   A bomb exploded on a bus in Jer...  New York Times  real  \n",
       "7   BEIRUT, Lebanon  —   For 38 straight days, the...  New York Times  real  \n",
       "8   On a frigid February day in Reykjavik, I stood...  New York Times  real  \n",
       "9   WASHINGTON  —   The Treasury Department announ...  New York Times  real  \n",
       "10  BEVERLY HILLS, CALIF.  —   Like many successfu...  New York Times  real  \n",
       "11  DETROIT  —   Fiat Chrysler said on Friday that...  New York Times  real  \n",
       "12  Prince wasn’t someone many people said no to. ...  New York Times  real  \n",
       "13  Prince, the songwriter, singer, producer,   st...  New York Times  real  \n",
       "14  As a child, you played Laura Ingalls Wilder in...  New York Times  real  "
      ]
     },
     "execution_count": 8,
     "metadata": {},
     "output_type": "execute_result"
    }
   ],
   "source": [
    "# now let's obtain similar features for both datasets before we combine them\n",
    "# Let's add our label to the dataset \"real\" for real news and \"fake\" for fake news\n",
    "\n",
    "real_news2 = real_news[['title', 'content', 'publication']]\n",
    "real_news2['label'] = 'real'\n",
    "real_news2.head(15)"
   ]
  },
  {
   "cell_type": "code",
   "execution_count": 9,
   "metadata": {},
   "outputs": [
    {
     "name": "stderr",
     "output_type": "stream",
     "text": [
      "//anaconda3/lib/python3.7/site-packages/ipykernel_launcher.py:2: SettingWithCopyWarning: \n",
      "A value is trying to be set on a copy of a slice from a DataFrame.\n",
      "Try using .loc[row_indexer,col_indexer] = value instead\n",
      "\n",
      "See the caveats in the documentation: http://pandas.pydata.org/pandas-docs/stable/indexing.html#indexing-view-versus-copy\n",
      "  \n"
     ]
    },
    {
     "data": {
      "text/html": [
       "<div>\n",
       "<style scoped>\n",
       "    .dataframe tbody tr th:only-of-type {\n",
       "        vertical-align: middle;\n",
       "    }\n",
       "\n",
       "    .dataframe tbody tr th {\n",
       "        vertical-align: top;\n",
       "    }\n",
       "\n",
       "    .dataframe thead th {\n",
       "        text-align: right;\n",
       "    }\n",
       "</style>\n",
       "<table border=\"1\" class=\"dataframe\">\n",
       "  <thead>\n",
       "    <tr style=\"text-align: right;\">\n",
       "      <th></th>\n",
       "      <th>title</th>\n",
       "      <th>text</th>\n",
       "      <th>site_url</th>\n",
       "      <th>label</th>\n",
       "    </tr>\n",
       "  </thead>\n",
       "  <tbody>\n",
       "    <tr>\n",
       "      <th>0</th>\n",
       "      <td>Muslims BUSTED: They Stole Millions In Gov’t B...</td>\n",
       "      <td>Print They should pay all the back all the mon...</td>\n",
       "      <td>100percentfedup.com</td>\n",
       "      <td>fake</td>\n",
       "    </tr>\n",
       "    <tr>\n",
       "      <th>1</th>\n",
       "      <td>Re: Why Did Attorney General Loretta Lynch Ple...</td>\n",
       "      <td>Why Did Attorney General Loretta Lynch Plead T...</td>\n",
       "      <td>100percentfedup.com</td>\n",
       "      <td>fake</td>\n",
       "    </tr>\n",
       "    <tr>\n",
       "      <th>2</th>\n",
       "      <td>BREAKING: Weiner Cooperating With FBI On Hilla...</td>\n",
       "      <td>Red State : \\nFox News Sunday reported this mo...</td>\n",
       "      <td>100percentfedup.com</td>\n",
       "      <td>fake</td>\n",
       "    </tr>\n",
       "    <tr>\n",
       "      <th>3</th>\n",
       "      <td>PIN DROP SPEECH BY FATHER OF DAUGHTER Kidnappe...</td>\n",
       "      <td>Email Kayla Mueller was a prisoner and torture...</td>\n",
       "      <td>100percentfedup.com</td>\n",
       "      <td>fake</td>\n",
       "    </tr>\n",
       "    <tr>\n",
       "      <th>4</th>\n",
       "      <td>FANTASTIC! TRUMP'S 7 POINT PLAN To Reform Heal...</td>\n",
       "      <td>Email HEALTHCARE REFORM TO MAKE AMERICA GREAT ...</td>\n",
       "      <td>100percentfedup.com</td>\n",
       "      <td>fake</td>\n",
       "    </tr>\n",
       "    <tr>\n",
       "      <th>5</th>\n",
       "      <td>Hillary Goes Absolutely Berserk On Protester A...</td>\n",
       "      <td>Print Hillary goes absolutely berserk! She exp...</td>\n",
       "      <td>100percentfedup.com</td>\n",
       "      <td>fake</td>\n",
       "    </tr>\n",
       "    <tr>\n",
       "      <th>6</th>\n",
       "      <td>BREAKING! NYPD Ready To Make Arrests In Weiner...</td>\n",
       "      <td>BREAKING! NYPD Ready To Make Arrests In Weiner...</td>\n",
       "      <td>100percentfedup.com</td>\n",
       "      <td>fake</td>\n",
       "    </tr>\n",
       "    <tr>\n",
       "      <th>7</th>\n",
       "      <td>WOW! WHISTLEBLOWER TELLS CHILLING STORY Of Mas...</td>\n",
       "      <td>BREAKING! NYPD Ready To Make Arrests In Weiner...</td>\n",
       "      <td>100percentfedup.com</td>\n",
       "      <td>fake</td>\n",
       "    </tr>\n",
       "    <tr>\n",
       "      <th>8</th>\n",
       "      <td>BREAKING: CLINTON CLEARED...Was This A Coordin...</td>\n",
       "      <td>\\nLimbaugh said that the revelations in the Wi...</td>\n",
       "      <td>100percentfedup.com</td>\n",
       "      <td>fake</td>\n",
       "    </tr>\n",
       "    <tr>\n",
       "      <th>9</th>\n",
       "      <td>EVIL HILLARY SUPPORTERS Yell \"F*ck Trump\"…Burn...</td>\n",
       "      <td>Email \\nThese people are sick and evil. They w...</td>\n",
       "      <td>100percentfedup.com</td>\n",
       "      <td>fake</td>\n",
       "    </tr>\n",
       "    <tr>\n",
       "      <th>10</th>\n",
       "      <td>YIKES! HILLARY GOES OFF THE RAILS…Pulls A Howa...</td>\n",
       "      <td></td>\n",
       "      <td>100percentfedup.com</td>\n",
       "      <td>fake</td>\n",
       "    </tr>\n",
       "    <tr>\n",
       "      <th>11</th>\n",
       "      <td>SAY GOODBYE! These 23 Hollywood Celebs Threate...</td>\n",
       "      <td>\\nWho? Comedian. \\nWhere would she move? Spain...</td>\n",
       "      <td>100percentfedup.com</td>\n",
       "      <td>fake</td>\n",
       "    </tr>\n",
       "    <tr>\n",
       "      <th>12</th>\n",
       "      <td>NOT KIDDING: Colleges Give Students “Safe Spac...</td>\n",
       "      <td>Students expressed their “fear” over a Trump p...</td>\n",
       "      <td>100percentfedup.com</td>\n",
       "      <td>fake</td>\n",
       "    </tr>\n",
       "    <tr>\n",
       "      <th>13</th>\n",
       "      <td>BOOM! MATH SHOWS Trump Would Have Beaten Obama...</td>\n",
       "      <td>Email For Republican politicians like Ohio Gov...</td>\n",
       "      <td>100percentfedup.com</td>\n",
       "      <td>fake</td>\n",
       "    </tr>\n",
       "    <tr>\n",
       "      <th>14</th>\n",
       "      <td>BOOM! This Is How President Reagan Handled Pro...</td>\n",
       "      <td>Copyright © 2016 100PercentFedUp.com, in assoc...</td>\n",
       "      <td>100percentfedup.com</td>\n",
       "      <td>fake</td>\n",
       "    </tr>\n",
       "  </tbody>\n",
       "</table>\n",
       "</div>"
      ],
      "text/plain": [
       "                                                title  \\\n",
       "0   Muslims BUSTED: They Stole Millions In Gov’t B...   \n",
       "1   Re: Why Did Attorney General Loretta Lynch Ple...   \n",
       "2   BREAKING: Weiner Cooperating With FBI On Hilla...   \n",
       "3   PIN DROP SPEECH BY FATHER OF DAUGHTER Kidnappe...   \n",
       "4   FANTASTIC! TRUMP'S 7 POINT PLAN To Reform Heal...   \n",
       "5   Hillary Goes Absolutely Berserk On Protester A...   \n",
       "6   BREAKING! NYPD Ready To Make Arrests In Weiner...   \n",
       "7   WOW! WHISTLEBLOWER TELLS CHILLING STORY Of Mas...   \n",
       "8   BREAKING: CLINTON CLEARED...Was This A Coordin...   \n",
       "9   EVIL HILLARY SUPPORTERS Yell \"F*ck Trump\"…Burn...   \n",
       "10  YIKES! HILLARY GOES OFF THE RAILS…Pulls A Howa...   \n",
       "11  SAY GOODBYE! These 23 Hollywood Celebs Threate...   \n",
       "12  NOT KIDDING: Colleges Give Students “Safe Spac...   \n",
       "13  BOOM! MATH SHOWS Trump Would Have Beaten Obama...   \n",
       "14  BOOM! This Is How President Reagan Handled Pro...   \n",
       "\n",
       "                                                 text             site_url  \\\n",
       "0   Print They should pay all the back all the mon...  100percentfedup.com   \n",
       "1   Why Did Attorney General Loretta Lynch Plead T...  100percentfedup.com   \n",
       "2   Red State : \\nFox News Sunday reported this mo...  100percentfedup.com   \n",
       "3   Email Kayla Mueller was a prisoner and torture...  100percentfedup.com   \n",
       "4   Email HEALTHCARE REFORM TO MAKE AMERICA GREAT ...  100percentfedup.com   \n",
       "5   Print Hillary goes absolutely berserk! She exp...  100percentfedup.com   \n",
       "6   BREAKING! NYPD Ready To Make Arrests In Weiner...  100percentfedup.com   \n",
       "7   BREAKING! NYPD Ready To Make Arrests In Weiner...  100percentfedup.com   \n",
       "8   \\nLimbaugh said that the revelations in the Wi...  100percentfedup.com   \n",
       "9   Email \\nThese people are sick and evil. They w...  100percentfedup.com   \n",
       "10                                                     100percentfedup.com   \n",
       "11  \\nWho? Comedian. \\nWhere would she move? Spain...  100percentfedup.com   \n",
       "12  Students expressed their “fear” over a Trump p...  100percentfedup.com   \n",
       "13  Email For Republican politicians like Ohio Gov...  100percentfedup.com   \n",
       "14  Copyright © 2016 100PercentFedUp.com, in assoc...  100percentfedup.com   \n",
       "\n",
       "   label  \n",
       "0   fake  \n",
       "1   fake  \n",
       "2   fake  \n",
       "3   fake  \n",
       "4   fake  \n",
       "5   fake  \n",
       "6   fake  \n",
       "7   fake  \n",
       "8   fake  \n",
       "9   fake  \n",
       "10  fake  \n",
       "11  fake  \n",
       "12  fake  \n",
       "13  fake  \n",
       "14  fake  "
      ]
     },
     "execution_count": 9,
     "metadata": {},
     "output_type": "execute_result"
    }
   ],
   "source": [
    "fake_news2 = fake_news[['title', 'text','site_url']]\n",
    "fake_news2['label'] = 'fake'\n",
    "fake_news2.head(15)"
   ]
  },
  {
   "cell_type": "code",
   "execution_count": 10,
   "metadata": {},
   "outputs": [
    {
     "data": {
      "text/html": [
       "<div>\n",
       "<style scoped>\n",
       "    .dataframe tbody tr th:only-of-type {\n",
       "        vertical-align: middle;\n",
       "    }\n",
       "\n",
       "    .dataframe tbody tr th {\n",
       "        vertical-align: top;\n",
       "    }\n",
       "\n",
       "    .dataframe thead th {\n",
       "        text-align: right;\n",
       "    }\n",
       "</style>\n",
       "<table border=\"1\" class=\"dataframe\">\n",
       "  <thead>\n",
       "    <tr style=\"text-align: right;\">\n",
       "      <th></th>\n",
       "      <th>title</th>\n",
       "      <th>content</th>\n",
       "      <th>publication</th>\n",
       "      <th>label</th>\n",
       "    </tr>\n",
       "  </thead>\n",
       "  <tbody>\n",
       "    <tr>\n",
       "      <th>0</th>\n",
       "      <td>Muslims BUSTED: They Stole Millions In Gov’t B...</td>\n",
       "      <td>Print They should pay all the back all the mon...</td>\n",
       "      <td>100percentfedup.com</td>\n",
       "      <td>fake</td>\n",
       "    </tr>\n",
       "    <tr>\n",
       "      <th>1</th>\n",
       "      <td>Re: Why Did Attorney General Loretta Lynch Ple...</td>\n",
       "      <td>Why Did Attorney General Loretta Lynch Plead T...</td>\n",
       "      <td>100percentfedup.com</td>\n",
       "      <td>fake</td>\n",
       "    </tr>\n",
       "    <tr>\n",
       "      <th>2</th>\n",
       "      <td>BREAKING: Weiner Cooperating With FBI On Hilla...</td>\n",
       "      <td>Red State : \\nFox News Sunday reported this mo...</td>\n",
       "      <td>100percentfedup.com</td>\n",
       "      <td>fake</td>\n",
       "    </tr>\n",
       "    <tr>\n",
       "      <th>3</th>\n",
       "      <td>PIN DROP SPEECH BY FATHER OF DAUGHTER Kidnappe...</td>\n",
       "      <td>Email Kayla Mueller was a prisoner and torture...</td>\n",
       "      <td>100percentfedup.com</td>\n",
       "      <td>fake</td>\n",
       "    </tr>\n",
       "    <tr>\n",
       "      <th>4</th>\n",
       "      <td>FANTASTIC! TRUMP'S 7 POINT PLAN To Reform Heal...</td>\n",
       "      <td>Email HEALTHCARE REFORM TO MAKE AMERICA GREAT ...</td>\n",
       "      <td>100percentfedup.com</td>\n",
       "      <td>fake</td>\n",
       "    </tr>\n",
       "    <tr>\n",
       "      <th>5</th>\n",
       "      <td>Hillary Goes Absolutely Berserk On Protester A...</td>\n",
       "      <td>Print Hillary goes absolutely berserk! She exp...</td>\n",
       "      <td>100percentfedup.com</td>\n",
       "      <td>fake</td>\n",
       "    </tr>\n",
       "    <tr>\n",
       "      <th>6</th>\n",
       "      <td>BREAKING! NYPD Ready To Make Arrests In Weiner...</td>\n",
       "      <td>BREAKING! NYPD Ready To Make Arrests In Weiner...</td>\n",
       "      <td>100percentfedup.com</td>\n",
       "      <td>fake</td>\n",
       "    </tr>\n",
       "    <tr>\n",
       "      <th>7</th>\n",
       "      <td>WOW! WHISTLEBLOWER TELLS CHILLING STORY Of Mas...</td>\n",
       "      <td>BREAKING! NYPD Ready To Make Arrests In Weiner...</td>\n",
       "      <td>100percentfedup.com</td>\n",
       "      <td>fake</td>\n",
       "    </tr>\n",
       "    <tr>\n",
       "      <th>8</th>\n",
       "      <td>BREAKING: CLINTON CLEARED...Was This A Coordin...</td>\n",
       "      <td>\\nLimbaugh said that the revelations in the Wi...</td>\n",
       "      <td>100percentfedup.com</td>\n",
       "      <td>fake</td>\n",
       "    </tr>\n",
       "    <tr>\n",
       "      <th>9</th>\n",
       "      <td>EVIL HILLARY SUPPORTERS Yell \"F*ck Trump\"…Burn...</td>\n",
       "      <td>Email \\nThese people are sick and evil. They w...</td>\n",
       "      <td>100percentfedup.com</td>\n",
       "      <td>fake</td>\n",
       "    </tr>\n",
       "    <tr>\n",
       "      <th>10</th>\n",
       "      <td>YIKES! HILLARY GOES OFF THE RAILS…Pulls A Howa...</td>\n",
       "      <td></td>\n",
       "      <td>100percentfedup.com</td>\n",
       "      <td>fake</td>\n",
       "    </tr>\n",
       "    <tr>\n",
       "      <th>11</th>\n",
       "      <td>SAY GOODBYE! These 23 Hollywood Celebs Threate...</td>\n",
       "      <td>\\nWho? Comedian. \\nWhere would she move? Spain...</td>\n",
       "      <td>100percentfedup.com</td>\n",
       "      <td>fake</td>\n",
       "    </tr>\n",
       "    <tr>\n",
       "      <th>12</th>\n",
       "      <td>NOT KIDDING: Colleges Give Students “Safe Spac...</td>\n",
       "      <td>Students expressed their “fear” over a Trump p...</td>\n",
       "      <td>100percentfedup.com</td>\n",
       "      <td>fake</td>\n",
       "    </tr>\n",
       "    <tr>\n",
       "      <th>13</th>\n",
       "      <td>BOOM! MATH SHOWS Trump Would Have Beaten Obama...</td>\n",
       "      <td>Email For Republican politicians like Ohio Gov...</td>\n",
       "      <td>100percentfedup.com</td>\n",
       "      <td>fake</td>\n",
       "    </tr>\n",
       "    <tr>\n",
       "      <th>14</th>\n",
       "      <td>BOOM! This Is How President Reagan Handled Pro...</td>\n",
       "      <td>Copyright © 2016 100PercentFedUp.com, in assoc...</td>\n",
       "      <td>100percentfedup.com</td>\n",
       "      <td>fake</td>\n",
       "    </tr>\n",
       "    <tr>\n",
       "      <th>15</th>\n",
       "      <td>TRUMP SUPPORTER GOT NUTS On MSNBC Reporter Cov...</td>\n",
       "      <td>Go to Article A Trump supporter wearing a Trum...</td>\n",
       "      <td>100percentfedup.com</td>\n",
       "      <td>fake</td>\n",
       "    </tr>\n",
       "    <tr>\n",
       "      <th>16</th>\n",
       "      <td>TOMI LAHREN Has Special Message For Celebritie...</td>\n",
       "      <td>Copyright © 2016 100PercentFedUp.com, in assoc...</td>\n",
       "      <td>100percentfedup.com</td>\n",
       "      <td>fake</td>\n",
       "    </tr>\n",
       "    <tr>\n",
       "      <th>17</th>\n",
       "      <td>#BoycottComedian…ROBERT DENIRO Wanted “To Punc...</td>\n",
       "      <td>Go to Article Donald Trump was willing to give...</td>\n",
       "      <td>100percentfedup.com</td>\n",
       "      <td>fake</td>\n",
       "    </tr>\n",
       "    <tr>\n",
       "      <th>18</th>\n",
       "      <td>HE’S NEVER SOLD AN ORIGINAL PAINTING UNTIL NOW...</td>\n",
       "      <td>John McNaughton is a special American painter ...</td>\n",
       "      <td>100percentfedup.com</td>\n",
       "      <td>fake</td>\n",
       "    </tr>\n",
       "    <tr>\n",
       "      <th>19</th>\n",
       "      <td>SORRY LIBERALS…You Can Stop With The Petitions...</td>\n",
       "      <td>Go to Article Dear Abby, I supported a woman I...</td>\n",
       "      <td>100percentfedup.com</td>\n",
       "      <td>fake</td>\n",
       "    </tr>\n",
       "    <tr>\n",
       "      <th>20</th>\n",
       "      <td>MARK CUBAN: \"In The Event Donald Wins, I Have ...</td>\n",
       "      <td>Mark Cuban has made no secret of his dislike f...</td>\n",
       "      <td>100percentfedup.com</td>\n",
       "      <td>fake</td>\n",
       "    </tr>\n",
       "    <tr>\n",
       "      <th>21</th>\n",
       "      <td>TRUMP SUPPORTER Whose Brutal Beating By Black ...</td>\n",
       "      <td>David Wilcox, a 49 year old Chicago man who wa...</td>\n",
       "      <td>100percentfedup.com</td>\n",
       "      <td>fake</td>\n",
       "    </tr>\n",
       "    <tr>\n",
       "      <th>22</th>\n",
       "      <td>WOW! WHITE Liberals Suggest Blacks Are Too Stu...</td>\n",
       "      <td>Go to Article Filmmaker Ami Horowitz takes to ...</td>\n",
       "      <td>100percentfedup.com</td>\n",
       "      <td>fake</td>\n",
       "    </tr>\n",
       "    <tr>\n",
       "      <th>23</th>\n",
       "      <td>LOL! BRITISH WIFE Of LIB ACTOR Who Said: “Ther...</td>\n",
       "      <td>Go to Article \\nPolitical activist and Hillary...</td>\n",
       "      <td>100percentfedup.com</td>\n",
       "      <td>fake</td>\n",
       "    </tr>\n",
       "    <tr>\n",
       "      <th>24</th>\n",
       "      <td>EPIC! TUCKER CARLSON Demolishes NYC Councilman...</td>\n",
       "      <td>Go to Article Rafael Salamanca’s interview on ...</td>\n",
       "      <td>100percentfedup.com</td>\n",
       "      <td>fake</td>\n",
       "    </tr>\n",
       "    <tr>\n",
       "      <th>25</th>\n",
       "      <td>FUNNY! SNL’S SOLUTION To Democrat Election Den...</td>\n",
       "      <td>Go to Article In The Bubble, life continues fo...</td>\n",
       "      <td>100percentfedup.com</td>\n",
       "      <td>fake</td>\n",
       "    </tr>\n",
       "    <tr>\n",
       "      <th>26</th>\n",
       "      <td>DONALD TRUMP Calls Meeting With Press…Dresses ...</td>\n",
       "      <td>Go to Article \\nThey had to know they had it c...</td>\n",
       "      <td>100percentfedup.com</td>\n",
       "      <td>fake</td>\n",
       "    </tr>\n",
       "    <tr>\n",
       "      <th>27</th>\n",
       "      <td>OOPS! CRYBABY HAMILTON STARS Who Lectured Penc...</td>\n",
       "      <td>DONALD TRUMP SKIPS MEDIA: Delivers Transition ...</td>\n",
       "      <td>100percentfedup.com</td>\n",
       "      <td>fake</td>\n",
       "    </tr>\n",
       "    <tr>\n",
       "      <th>28</th>\n",
       "      <td>WHITE TRUMP-BASHING LIB Reprimanded On LIVE CN...</td>\n",
       "      <td>Go to Article The left is shameful in their la...</td>\n",
       "      <td>100percentfedup.com</td>\n",
       "      <td>fake</td>\n",
       "    </tr>\n",
       "    <tr>\n",
       "      <th>29</th>\n",
       "      <td>BOOM! Kellyanne Conway Shuts Down CNN’s Cuomo</td>\n",
       "      <td>BOOM! Kellyanne Conway Shuts Down CNN’s Cuomo ...</td>\n",
       "      <td>100percentfedup.com</td>\n",
       "      <td>fake</td>\n",
       "    </tr>\n",
       "    <tr>\n",
       "      <th>...</th>\n",
       "      <td>...</td>\n",
       "      <td>...</td>\n",
       "      <td>...</td>\n",
       "      <td>...</td>\n",
       "    </tr>\n",
       "    <tr>\n",
       "      <th>15682</th>\n",
       "      <td>Which senators will stand up to Trump, and whi...</td>\n",
       "      <td>Our greatest fear for 2017 and the Trump ...</td>\n",
       "      <td>Washington Post</td>\n",
       "      <td>real</td>\n",
       "    </tr>\n",
       "    <tr>\n",
       "      <th>15683</th>\n",
       "      <td>Cease-fire to begin across Syria starting at m...</td>\n",
       "      <td>A   will take effect across much of Syria fro...</td>\n",
       "      <td>Washington Post</td>\n",
       "      <td>real</td>\n",
       "    </tr>\n",
       "    <tr>\n",
       "      <th>15684</th>\n",
       "      <td>Democrats’ new leader suggests John Kerry just...</td>\n",
       "      <td>There is an old saying in politics: The m...</td>\n",
       "      <td>Washington Post</td>\n",
       "      <td>real</td>\n",
       "    </tr>\n",
       "    <tr>\n",
       "      <th>15685</th>\n",
       "      <td>An obscure E.U. regulation may have saved live...</td>\n",
       "      <td>The truck attack on a Christmas market in...</td>\n",
       "      <td>Washington Post</td>\n",
       "      <td>real</td>\n",
       "    </tr>\n",
       "    <tr>\n",
       "      <th>15686</th>\n",
       "      <td>Rare coast-to-coast cold snap to engulf Lower ...</td>\n",
       "      <td>Frigid air will grip an unusually large p...</td>\n",
       "      <td>Washington Post</td>\n",
       "      <td>real</td>\n",
       "    </tr>\n",
       "    <tr>\n",
       "      <th>15687</th>\n",
       "      <td>The world today looks ominously like it did be...</td>\n",
       "      <td>A backlash to globalization appears to be...</td>\n",
       "      <td>Washington Post</td>\n",
       "      <td>real</td>\n",
       "    </tr>\n",
       "    <tr>\n",
       "      <th>15688</th>\n",
       "      <td>The Asian American ‘advantage’ that is actuall...</td>\n",
       "      <td>For decades, the data on median household...</td>\n",
       "      <td>Washington Post</td>\n",
       "      <td>real</td>\n",
       "    </tr>\n",
       "    <tr>\n",
       "      <th>15689</th>\n",
       "      <td>A CIA calendar the CIA gift shop refuses to se...</td>\n",
       "      <td>Far Side cartoons, Ansel Adams landscapes, ...</td>\n",
       "      <td>Washington Post</td>\n",
       "      <td>real</td>\n",
       "    </tr>\n",
       "    <tr>\n",
       "      <th>15690</th>\n",
       "      <td>A woman ordered canaries to brighten her home....</td>\n",
       "      <td>Somewhere between Texas and Alabama, some...</td>\n",
       "      <td>Washington Post</td>\n",
       "      <td>real</td>\n",
       "    </tr>\n",
       "    <tr>\n",
       "      <th>15691</th>\n",
       "      <td>Putin says he won’t deport U.S. diplomats as h...</td>\n",
       "      <td>MOSCOW  —   On a day when everyone expected ...</td>\n",
       "      <td>Washington Post</td>\n",
       "      <td>real</td>\n",
       "    </tr>\n",
       "    <tr>\n",
       "      <th>15692</th>\n",
       "      <td>Trump praises Putin’s response to sanctions, c...</td>\n",
       "      <td>Donald Trump on Friday expressed his ap...</td>\n",
       "      <td>Washington Post</td>\n",
       "      <td>real</td>\n",
       "    </tr>\n",
       "    <tr>\n",
       "      <th>15693</th>\n",
       "      <td>Russia slams Obama administration and CNN for ...</td>\n",
       "      <td>Maria Zakharova, a spokeswoman for the Ru...</td>\n",
       "      <td>Washington Post</td>\n",
       "      <td>real</td>\n",
       "    </tr>\n",
       "    <tr>\n",
       "      <th>15694</th>\n",
       "      <td>N.C.’s outgoing GOP governor appears to make o...</td>\n",
       "      <td>With just one day to go before he leaves ...</td>\n",
       "      <td>Washington Post</td>\n",
       "      <td>real</td>\n",
       "    </tr>\n",
       "    <tr>\n",
       "      <th>15695</th>\n",
       "      <td>How Indiana’s school voucher program soared, a...</td>\n",
       "      <td>Indiana lawmakers originally promoted the sta...</td>\n",
       "      <td>Washington Post</td>\n",
       "      <td>real</td>\n",
       "    </tr>\n",
       "    <tr>\n",
       "      <th>15696</th>\n",
       "      <td>She was on course for stardom. Then she entrus...</td>\n",
       "      <td>PHOENIX, Ariz.  —   This was supposed t...</td>\n",
       "      <td>Washington Post</td>\n",
       "      <td>real</td>\n",
       "    </tr>\n",
       "    <tr>\n",
       "      <th>15697</th>\n",
       "      <td>2016: One year in the Upside Down</td>\n",
       "      <td>The year started ominously, with a big f...</td>\n",
       "      <td>Washington Post</td>\n",
       "      <td>real</td>\n",
       "    </tr>\n",
       "    <tr>\n",
       "      <th>15698</th>\n",
       "      <td>On Russia, Trump is incapable of looking past ...</td>\n",
       "      <td>Donald Trump, having dismissed as “ridi...</td>\n",
       "      <td>Washington Post</td>\n",
       "      <td>real</td>\n",
       "    </tr>\n",
       "    <tr>\n",
       "      <th>15699</th>\n",
       "      <td>Kerry manages to alienate our closest friends ...</td>\n",
       "      <td>President Obama’s decision to abstain at ...</td>\n",
       "      <td>Washington Post</td>\n",
       "      <td>real</td>\n",
       "    </tr>\n",
       "    <tr>\n",
       "      <th>15700</th>\n",
       "      <td>Hamilton helped elect his rival to keep an ‘un...</td>\n",
       "      <td>CHARLOTTESVILLE   I came here during the hol...</td>\n",
       "      <td>Washington Post</td>\n",
       "      <td>real</td>\n",
       "    </tr>\n",
       "    <tr>\n",
       "      <th>15701</th>\n",
       "      <td>2017 is not looking so good for Germany</td>\n",
       "      <td>Torn between impatience for 2016 to be ov...</td>\n",
       "      <td>Washington Post</td>\n",
       "      <td>real</td>\n",
       "    </tr>\n",
       "    <tr>\n",
       "      <th>15702</th>\n",
       "      <td>What U.S. Muslims fear from Trump</td>\n",
       "      <td>Naureen Shah is director of security and hu...</td>\n",
       "      <td>Washington Post</td>\n",
       "      <td>real</td>\n",
       "    </tr>\n",
       "    <tr>\n",
       "      <th>15703</th>\n",
       "      <td>Trump refuses to face reality about Russia</td>\n",
       "      <td>ALTHOUGH PRESIDENT Obama’s sanctions against ...</td>\n",
       "      <td>Washington Post</td>\n",
       "      <td>real</td>\n",
       "    </tr>\n",
       "    <tr>\n",
       "      <th>15704</th>\n",
       "      <td>British leader Theresa May breaks with John Ke...</td>\n",
       "      <td>BRUSSELS  —   British Prime Minister Theresa...</td>\n",
       "      <td>Washington Post</td>\n",
       "      <td>real</td>\n",
       "    </tr>\n",
       "    <tr>\n",
       "      <th>15705</th>\n",
       "      <td>China’s vow to shut down its ivory trade by th...</td>\n",
       "      <td>BEIJING  —   China promised Friday to halt ...</td>\n",
       "      <td>Washington Post</td>\n",
       "      <td>real</td>\n",
       "    </tr>\n",
       "    <tr>\n",
       "      <th>15706</th>\n",
       "      <td>A Mormon Tabernacle Choir member is resigning ...</td>\n",
       "      <td>The decision was not an easy one, wrote J...</td>\n",
       "      <td>Washington Post</td>\n",
       "      <td>real</td>\n",
       "    </tr>\n",
       "    <tr>\n",
       "      <th>15707</th>\n",
       "      <td>An eavesdropping Uber driver saved his 16-year...</td>\n",
       "      <td>Uber driver Keith Avila picked up a p...</td>\n",
       "      <td>Washington Post</td>\n",
       "      <td>real</td>\n",
       "    </tr>\n",
       "    <tr>\n",
       "      <th>15708</th>\n",
       "      <td>Plane carrying six people returning from a Cav...</td>\n",
       "      <td>Crews on Friday continued to search L...</td>\n",
       "      <td>Washington Post</td>\n",
       "      <td>real</td>\n",
       "    </tr>\n",
       "    <tr>\n",
       "      <th>15709</th>\n",
       "      <td>After helping a fraction of homeowners expecte...</td>\n",
       "      <td>When the Obama administration announced a...</td>\n",
       "      <td>Washington Post</td>\n",
       "      <td>real</td>\n",
       "    </tr>\n",
       "    <tr>\n",
       "      <th>15710</th>\n",
       "      <td>Yes, this is real: Michigan just banned bannin...</td>\n",
       "      <td>This story has been updated. A new law in...</td>\n",
       "      <td>Washington Post</td>\n",
       "      <td>real</td>\n",
       "    </tr>\n",
       "    <tr>\n",
       "      <th>15711</th>\n",
       "      <td>What happened in Washington state after voters...</td>\n",
       "      <td>The nation’s first recreational marijuana...</td>\n",
       "      <td>Washington Post</td>\n",
       "      <td>real</td>\n",
       "    </tr>\n",
       "  </tbody>\n",
       "</table>\n",
       "<p>33713 rows × 4 columns</p>\n",
       "</div>"
      ],
      "text/plain": [
       "                                                   title  \\\n",
       "0      Muslims BUSTED: They Stole Millions In Gov’t B...   \n",
       "1      Re: Why Did Attorney General Loretta Lynch Ple...   \n",
       "2      BREAKING: Weiner Cooperating With FBI On Hilla...   \n",
       "3      PIN DROP SPEECH BY FATHER OF DAUGHTER Kidnappe...   \n",
       "4      FANTASTIC! TRUMP'S 7 POINT PLAN To Reform Heal...   \n",
       "5      Hillary Goes Absolutely Berserk On Protester A...   \n",
       "6      BREAKING! NYPD Ready To Make Arrests In Weiner...   \n",
       "7      WOW! WHISTLEBLOWER TELLS CHILLING STORY Of Mas...   \n",
       "8      BREAKING: CLINTON CLEARED...Was This A Coordin...   \n",
       "9      EVIL HILLARY SUPPORTERS Yell \"F*ck Trump\"…Burn...   \n",
       "10     YIKES! HILLARY GOES OFF THE RAILS…Pulls A Howa...   \n",
       "11     SAY GOODBYE! These 23 Hollywood Celebs Threate...   \n",
       "12     NOT KIDDING: Colleges Give Students “Safe Spac...   \n",
       "13     BOOM! MATH SHOWS Trump Would Have Beaten Obama...   \n",
       "14     BOOM! This Is How President Reagan Handled Pro...   \n",
       "15     TRUMP SUPPORTER GOT NUTS On MSNBC Reporter Cov...   \n",
       "16     TOMI LAHREN Has Special Message For Celebritie...   \n",
       "17     #BoycottComedian…ROBERT DENIRO Wanted “To Punc...   \n",
       "18     HE’S NEVER SOLD AN ORIGINAL PAINTING UNTIL NOW...   \n",
       "19     SORRY LIBERALS…You Can Stop With The Petitions...   \n",
       "20     MARK CUBAN: \"In The Event Donald Wins, I Have ...   \n",
       "21     TRUMP SUPPORTER Whose Brutal Beating By Black ...   \n",
       "22     WOW! WHITE Liberals Suggest Blacks Are Too Stu...   \n",
       "23     LOL! BRITISH WIFE Of LIB ACTOR Who Said: “Ther...   \n",
       "24     EPIC! TUCKER CARLSON Demolishes NYC Councilman...   \n",
       "25     FUNNY! SNL’S SOLUTION To Democrat Election Den...   \n",
       "26     DONALD TRUMP Calls Meeting With Press…Dresses ...   \n",
       "27     OOPS! CRYBABY HAMILTON STARS Who Lectured Penc...   \n",
       "28     WHITE TRUMP-BASHING LIB Reprimanded On LIVE CN...   \n",
       "29         BOOM! Kellyanne Conway Shuts Down CNN’s Cuomo   \n",
       "...                                                  ...   \n",
       "15682  Which senators will stand up to Trump, and whi...   \n",
       "15683  Cease-fire to begin across Syria starting at m...   \n",
       "15684  Democrats’ new leader suggests John Kerry just...   \n",
       "15685  An obscure E.U. regulation may have saved live...   \n",
       "15686  Rare coast-to-coast cold snap to engulf Lower ...   \n",
       "15687  The world today looks ominously like it did be...   \n",
       "15688  The Asian American ‘advantage’ that is actuall...   \n",
       "15689  A CIA calendar the CIA gift shop refuses to se...   \n",
       "15690  A woman ordered canaries to brighten her home....   \n",
       "15691  Putin says he won’t deport U.S. diplomats as h...   \n",
       "15692  Trump praises Putin’s response to sanctions, c...   \n",
       "15693  Russia slams Obama administration and CNN for ...   \n",
       "15694  N.C.’s outgoing GOP governor appears to make o...   \n",
       "15695  How Indiana’s school voucher program soared, a...   \n",
       "15696  She was on course for stardom. Then she entrus...   \n",
       "15697                  2016: One year in the Upside Down   \n",
       "15698  On Russia, Trump is incapable of looking past ...   \n",
       "15699  Kerry manages to alienate our closest friends ...   \n",
       "15700  Hamilton helped elect his rival to keep an ‘un...   \n",
       "15701            2017 is not looking so good for Germany   \n",
       "15702                  What U.S. Muslims fear from Trump   \n",
       "15703         Trump refuses to face reality about Russia   \n",
       "15704  British leader Theresa May breaks with John Ke...   \n",
       "15705  China’s vow to shut down its ivory trade by th...   \n",
       "15706  A Mormon Tabernacle Choir member is resigning ...   \n",
       "15707  An eavesdropping Uber driver saved his 16-year...   \n",
       "15708  Plane carrying six people returning from a Cav...   \n",
       "15709  After helping a fraction of homeowners expecte...   \n",
       "15710  Yes, this is real: Michigan just banned bannin...   \n",
       "15711  What happened in Washington state after voters...   \n",
       "\n",
       "                                                 content          publication  \\\n",
       "0      Print They should pay all the back all the mon...  100percentfedup.com   \n",
       "1      Why Did Attorney General Loretta Lynch Plead T...  100percentfedup.com   \n",
       "2      Red State : \\nFox News Sunday reported this mo...  100percentfedup.com   \n",
       "3      Email Kayla Mueller was a prisoner and torture...  100percentfedup.com   \n",
       "4      Email HEALTHCARE REFORM TO MAKE AMERICA GREAT ...  100percentfedup.com   \n",
       "5      Print Hillary goes absolutely berserk! She exp...  100percentfedup.com   \n",
       "6      BREAKING! NYPD Ready To Make Arrests In Weiner...  100percentfedup.com   \n",
       "7      BREAKING! NYPD Ready To Make Arrests In Weiner...  100percentfedup.com   \n",
       "8      \\nLimbaugh said that the revelations in the Wi...  100percentfedup.com   \n",
       "9      Email \\nThese people are sick and evil. They w...  100percentfedup.com   \n",
       "10                                                        100percentfedup.com   \n",
       "11     \\nWho? Comedian. \\nWhere would she move? Spain...  100percentfedup.com   \n",
       "12     Students expressed their “fear” over a Trump p...  100percentfedup.com   \n",
       "13     Email For Republican politicians like Ohio Gov...  100percentfedup.com   \n",
       "14     Copyright © 2016 100PercentFedUp.com, in assoc...  100percentfedup.com   \n",
       "15     Go to Article A Trump supporter wearing a Trum...  100percentfedup.com   \n",
       "16     Copyright © 2016 100PercentFedUp.com, in assoc...  100percentfedup.com   \n",
       "17     Go to Article Donald Trump was willing to give...  100percentfedup.com   \n",
       "18     John McNaughton is a special American painter ...  100percentfedup.com   \n",
       "19     Go to Article Dear Abby, I supported a woman I...  100percentfedup.com   \n",
       "20     Mark Cuban has made no secret of his dislike f...  100percentfedup.com   \n",
       "21     David Wilcox, a 49 year old Chicago man who wa...  100percentfedup.com   \n",
       "22     Go to Article Filmmaker Ami Horowitz takes to ...  100percentfedup.com   \n",
       "23     Go to Article \\nPolitical activist and Hillary...  100percentfedup.com   \n",
       "24     Go to Article Rafael Salamanca’s interview on ...  100percentfedup.com   \n",
       "25     Go to Article In The Bubble, life continues fo...  100percentfedup.com   \n",
       "26     Go to Article \\nThey had to know they had it c...  100percentfedup.com   \n",
       "27     DONALD TRUMP SKIPS MEDIA: Delivers Transition ...  100percentfedup.com   \n",
       "28     Go to Article The left is shameful in their la...  100percentfedup.com   \n",
       "29     BOOM! Kellyanne Conway Shuts Down CNN’s Cuomo ...  100percentfedup.com   \n",
       "...                                                  ...                  ...   \n",
       "15682       Our greatest fear for 2017 and the Trump ...      Washington Post   \n",
       "15683   A   will take effect across much of Syria fro...      Washington Post   \n",
       "15684       There is an old saying in politics: The m...      Washington Post   \n",
       "15685       The truck attack on a Christmas market in...      Washington Post   \n",
       "15686       Frigid air will grip an unusually large p...      Washington Post   \n",
       "15687       A backlash to globalization appears to be...      Washington Post   \n",
       "15688       For decades, the data on median household...      Washington Post   \n",
       "15689     Far Side cartoons, Ansel Adams landscapes, ...      Washington Post   \n",
       "15690       Somewhere between Texas and Alabama, some...      Washington Post   \n",
       "15691    MOSCOW  —   On a day when everyone expected ...      Washington Post   \n",
       "15692         Donald Trump on Friday expressed his ap...      Washington Post   \n",
       "15693       Maria Zakharova, a spokeswoman for the Ru...      Washington Post   \n",
       "15694       With just one day to go before he leaves ...      Washington Post   \n",
       "15695   Indiana lawmakers originally promoted the sta...      Washington Post   \n",
       "15696         PHOENIX, Ariz.  —   This was supposed t...      Washington Post   \n",
       "15697        The year started ominously, with a big f...      Washington Post   \n",
       "15698         Donald Trump, having dismissed as “ridi...      Washington Post   \n",
       "15699       President Obama’s decision to abstain at ...      Washington Post   \n",
       "15700    CHARLOTTESVILLE   I came here during the hol...      Washington Post   \n",
       "15701       Torn between impatience for 2016 to be ov...      Washington Post   \n",
       "15702     Naureen Shah is director of security and hu...      Washington Post   \n",
       "15703   ALTHOUGH PRESIDENT Obama’s sanctions against ...      Washington Post   \n",
       "15704    BRUSSELS  —   British Prime Minister Theresa...      Washington Post   \n",
       "15705     BEIJING  —   China promised Friday to halt ...      Washington Post   \n",
       "15706       The decision was not an easy one, wrote J...      Washington Post   \n",
       "15707           Uber driver Keith Avila picked up a p...      Washington Post   \n",
       "15708           Crews on Friday continued to search L...      Washington Post   \n",
       "15709       When the Obama administration announced a...      Washington Post   \n",
       "15710       This story has been updated. A new law in...      Washington Post   \n",
       "15711       The nation’s first recreational marijuana...      Washington Post   \n",
       "\n",
       "      label  \n",
       "0      fake  \n",
       "1      fake  \n",
       "2      fake  \n",
       "3      fake  \n",
       "4      fake  \n",
       "5      fake  \n",
       "6      fake  \n",
       "7      fake  \n",
       "8      fake  \n",
       "9      fake  \n",
       "10     fake  \n",
       "11     fake  \n",
       "12     fake  \n",
       "13     fake  \n",
       "14     fake  \n",
       "15     fake  \n",
       "16     fake  \n",
       "17     fake  \n",
       "18     fake  \n",
       "19     fake  \n",
       "20     fake  \n",
       "21     fake  \n",
       "22     fake  \n",
       "23     fake  \n",
       "24     fake  \n",
       "25     fake  \n",
       "26     fake  \n",
       "27     fake  \n",
       "28     fake  \n",
       "29     fake  \n",
       "...     ...  \n",
       "15682  real  \n",
       "15683  real  \n",
       "15684  real  \n",
       "15685  real  \n",
       "15686  real  \n",
       "15687  real  \n",
       "15688  real  \n",
       "15689  real  \n",
       "15690  real  \n",
       "15691  real  \n",
       "15692  real  \n",
       "15693  real  \n",
       "15694  real  \n",
       "15695  real  \n",
       "15696  real  \n",
       "15697  real  \n",
       "15698  real  \n",
       "15699  real  \n",
       "15700  real  \n",
       "15701  real  \n",
       "15702  real  \n",
       "15703  real  \n",
       "15704  real  \n",
       "15705  real  \n",
       "15706  real  \n",
       "15707  real  \n",
       "15708  real  \n",
       "15709  real  \n",
       "15710  real  \n",
       "15711  real  \n",
       "\n",
       "[33713 rows x 4 columns]"
      ]
     },
     "execution_count": 10,
     "metadata": {},
     "output_type": "execute_result"
    }
   ],
   "source": [
    "# let's rename the features in our datasets to be the same\n",
    "newlabels = ['title', 'content', 'publication', 'label']\n",
    "real_news2.columns = newlabels\n",
    "fake_news2.columns = newlabels\n",
    "\n",
    "# let's concatenate the dataframes\n",
    "frames = [fake_news2, real_news2]\n",
    "news_dataset = pd.concat(frames)\n",
    "news_dataset\n"
   ]
  },
  {
   "cell_type": "markdown",
   "metadata": {},
   "source": [
    "## Define the api scraper"
   ]
  },
  {
   "cell_type": "code",
   "execution_count": 11,
   "metadata": {},
   "outputs": [],
   "source": [
    "def scrape_data(subreddit):\n",
    "    \n",
    "    # Instantiate \n",
    "    api = PushshiftAPI()\n",
    "\n",
    "    # Create list of scraped data\n",
    "    scrape_list = list(api.search_submissions(subreddit=subreddit,\n",
    "                                filter=['title', 'subreddit', 'num_comments', 'author', 'subreddit_subscribers', 'score', 'domain', 'created_utc'],\n",
    "                                limit=15000))\n",
    "\n",
    "    #Filter list to only show Subreddit titles and Subreddit category \n",
    "    clean_scrape_lst = []\n",
    "    for i in range(len(scrape_list)):\n",
    "        scrape_dict = {}\n",
    "        scrape_dict['subreddit'] = scrape_list[i][5]\n",
    "        scrape_dict['author'] = scrape_list[i][0]\n",
    "        scrape_dict['domain'] = scrape_list[i][2]\n",
    "        scrape_dict['title'] = scrape_list[i][7]\n",
    "        scrape_dict['num_comments'] = scrape_list[i][3]\n",
    "        scrape_dict['score'] = scrape_list[i][4]\n",
    "        scrape_dict['timestamp'] = scrape_list[i][1]\n",
    "        clean_scrape_lst.append(scrape_dict)\n",
    "\n",
    "    # Show number of subscribers\n",
    "    print(subreddit, 'subscribers:',scrape_list[1][6])\n",
    "    \n",
    "    # Return list of scraped data\n",
    "    return clean_scrape_lst"
   ]
  },
  {
   "cell_type": "markdown",
   "metadata": {},
   "source": [
    "## Scrape r/nottheonion "
   ]
  },
  {
   "cell_type": "code",
   "execution_count": 12,
   "metadata": {},
   "outputs": [
    {
     "name": "stdout",
     "output_type": "stream",
     "text": [
      "nottheonion subscribers: 16275182\n",
      "df_not_onion shape: (15000, 7)\n"
     ]
    },
    {
     "data": {
      "text/html": [
       "<div>\n",
       "<style scoped>\n",
       "    .dataframe tbody tr th:only-of-type {\n",
       "        vertical-align: middle;\n",
       "    }\n",
       "\n",
       "    .dataframe tbody tr th {\n",
       "        vertical-align: top;\n",
       "    }\n",
       "\n",
       "    .dataframe thead th {\n",
       "        text-align: right;\n",
       "    }\n",
       "</style>\n",
       "<table border=\"1\" class=\"dataframe\">\n",
       "  <thead>\n",
       "    <tr style=\"text-align: right;\">\n",
       "      <th></th>\n",
       "      <th>author</th>\n",
       "      <th>domain</th>\n",
       "      <th>num_comments</th>\n",
       "      <th>score</th>\n",
       "      <th>subreddit</th>\n",
       "      <th>timestamp</th>\n",
       "      <th>title</th>\n",
       "    </tr>\n",
       "  </thead>\n",
       "  <tbody>\n",
       "    <tr>\n",
       "      <th>0</th>\n",
       "      <td>TheBatfanTriumphant</td>\n",
       "      <td>joblo.com</td>\n",
       "      <td>0</td>\n",
       "      <td>1</td>\n",
       "      <td>nottheonion</td>\n",
       "      <td>1579882159</td>\n",
       "      <td>Danny McBride is Kanye West's choice to play t...</td>\n",
       "    </tr>\n",
       "    <tr>\n",
       "      <th>1</th>\n",
       "      <td>mcready67</td>\n",
       "      <td>marketwatch.com</td>\n",
       "      <td>1</td>\n",
       "      <td>1</td>\n",
       "      <td>nottheonion</td>\n",
       "      <td>1579882156</td>\n",
       "      <td>New Orleans Saints fight to shield Catholic Ch...</td>\n",
       "    </tr>\n",
       "    <tr>\n",
       "      <th>2</th>\n",
       "      <td>cowcowcow314</td>\n",
       "      <td>foxnews.com</td>\n",
       "      <td>0</td>\n",
       "      <td>1</td>\n",
       "      <td>nottheonion</td>\n",
       "      <td>1579881926</td>\n",
       "      <td>You’re full of shit.</td>\n",
       "    </tr>\n",
       "    <tr>\n",
       "      <th>3</th>\n",
       "      <td>Snakeb1te</td>\n",
       "      <td>theguardian.com</td>\n",
       "      <td>0</td>\n",
       "      <td>1</td>\n",
       "      <td>nottheonion</td>\n",
       "      <td>1579881849</td>\n",
       "      <td>The Wolf of Wall Street's Jordan Belfort sues ...</td>\n",
       "    </tr>\n",
       "    <tr>\n",
       "      <th>4</th>\n",
       "      <td>chevymonza</td>\n",
       "      <td>variety.com</td>\n",
       "      <td>2</td>\n",
       "      <td>1</td>\n",
       "      <td>nottheonion</td>\n",
       "      <td>1579881618</td>\n",
       "      <td>Real-Life ‘Wolf of Wall Street’, Jordan Belfor...</td>\n",
       "    </tr>\n",
       "  </tbody>\n",
       "</table>\n",
       "</div>"
      ],
      "text/plain": [
       "                author           domain  num_comments  score    subreddit  \\\n",
       "0  TheBatfanTriumphant        joblo.com             0      1  nottheonion   \n",
       "1            mcready67  marketwatch.com             1      1  nottheonion   \n",
       "2         cowcowcow314      foxnews.com             0      1  nottheonion   \n",
       "3            Snakeb1te  theguardian.com             0      1  nottheonion   \n",
       "4           chevymonza      variety.com             2      1  nottheonion   \n",
       "\n",
       "    timestamp                                              title  \n",
       "0  1579882159  Danny McBride is Kanye West's choice to play t...  \n",
       "1  1579882156  New Orleans Saints fight to shield Catholic Ch...  \n",
       "2  1579881926                               You’re full of shit.  \n",
       "3  1579881849  The Wolf of Wall Street's Jordan Belfort sues ...  \n",
       "4  1579881618  Real-Life ‘Wolf of Wall Street’, Jordan Belfor...  "
      ]
     },
     "execution_count": 12,
     "metadata": {},
     "output_type": "execute_result"
    }
   ],
   "source": [
    "# Call function and create DataFrame\n",
    "df_not_onion = pd.DataFrame(scrape_data('nottheonion'))\n",
    "\n",
    "# Save data to csv\n",
    "df_not_onion.to_csv('./data/not_onion.csv')\n",
    "\n",
    "# Shape of DataFrame\n",
    "print(f'df_not_onion shape: {df_not_onion.shape}')\n",
    "\n",
    "# Show head\n",
    "df_not_onion.head()"
   ]
  },
  {
   "cell_type": "markdown",
   "metadata": {},
   "source": [
    "## Scrape r/theonion"
   ]
  },
  {
   "cell_type": "code",
   "execution_count": 13,
   "metadata": {},
   "outputs": [
    {
     "name": "stdout",
     "output_type": "stream",
     "text": [
      "theonion subscribers: 136492\n",
      "df_onion shape: (15000, 7)\n"
     ]
    },
    {
     "data": {
      "text/html": [
       "<div>\n",
       "<style scoped>\n",
       "    .dataframe tbody tr th:only-of-type {\n",
       "        vertical-align: middle;\n",
       "    }\n",
       "\n",
       "    .dataframe tbody tr th {\n",
       "        vertical-align: top;\n",
       "    }\n",
       "\n",
       "    .dataframe thead th {\n",
       "        text-align: right;\n",
       "    }\n",
       "</style>\n",
       "<table border=\"1\" class=\"dataframe\">\n",
       "  <thead>\n",
       "    <tr style=\"text-align: right;\">\n",
       "      <th></th>\n",
       "      <th>author</th>\n",
       "      <th>domain</th>\n",
       "      <th>num_comments</th>\n",
       "      <th>score</th>\n",
       "      <th>subreddit</th>\n",
       "      <th>timestamp</th>\n",
       "      <th>title</th>\n",
       "    </tr>\n",
       "  </thead>\n",
       "  <tbody>\n",
       "    <tr>\n",
       "      <th>0</th>\n",
       "      <td>Jokersi_89</td>\n",
       "      <td>politics.theonion.com</td>\n",
       "      <td>11</td>\n",
       "      <td>1</td>\n",
       "      <td>TheOnion</td>\n",
       "      <td>1579850473</td>\n",
       "      <td>Trump Lifts Obama-Era Protections Trapping Gan...</td>\n",
       "    </tr>\n",
       "    <tr>\n",
       "      <th>1</th>\n",
       "      <td>aresef</td>\n",
       "      <td>ogn.theonion.com</td>\n",
       "      <td>1</td>\n",
       "      <td>1</td>\n",
       "      <td>TheOnion</td>\n",
       "      <td>1579813061</td>\n",
       "      <td>‘Kingdom Hearts III’ DLC Developers Panicking ...</td>\n",
       "    </tr>\n",
       "    <tr>\n",
       "      <th>2</th>\n",
       "      <td>dwaxe</td>\n",
       "      <td>news.clickhole.com</td>\n",
       "      <td>8</td>\n",
       "      <td>1</td>\n",
       "      <td>TheOnion</td>\n",
       "      <td>1579808486</td>\n",
       "      <td>Fascinating Trend: More And More Women Are Fre...</td>\n",
       "    </tr>\n",
       "    <tr>\n",
       "      <th>3</th>\n",
       "      <td>Sanlear</td>\n",
       "      <td>theonion.com</td>\n",
       "      <td>0</td>\n",
       "      <td>1</td>\n",
       "      <td>TheOnion</td>\n",
       "      <td>1579744739</td>\n",
       "      <td>Financial Experts Recommend Just Waiting Until...</td>\n",
       "    </tr>\n",
       "    <tr>\n",
       "      <th>4</th>\n",
       "      <td>DerpDuck2233</td>\n",
       "      <td>theonion.com</td>\n",
       "      <td>1</td>\n",
       "      <td>1</td>\n",
       "      <td>TheOnion</td>\n",
       "      <td>1579743627</td>\n",
       "      <td>PornHub Announces Contest To Allow One User Un...</td>\n",
       "    </tr>\n",
       "  </tbody>\n",
       "</table>\n",
       "</div>"
      ],
      "text/plain": [
       "         author                 domain  num_comments  score subreddit  \\\n",
       "0    Jokersi_89  politics.theonion.com            11      1  TheOnion   \n",
       "1        aresef       ogn.theonion.com             1      1  TheOnion   \n",
       "2         dwaxe     news.clickhole.com             8      1  TheOnion   \n",
       "3       Sanlear           theonion.com             0      1  TheOnion   \n",
       "4  DerpDuck2233           theonion.com             1      1  TheOnion   \n",
       "\n",
       "    timestamp                                              title  \n",
       "0  1579850473  Trump Lifts Obama-Era Protections Trapping Gan...  \n",
       "1  1579813061  ‘Kingdom Hearts III’ DLC Developers Panicking ...  \n",
       "2  1579808486  Fascinating Trend: More And More Women Are Fre...  \n",
       "3  1579744739  Financial Experts Recommend Just Waiting Until...  \n",
       "4  1579743627  PornHub Announces Contest To Allow One User Un...  "
      ]
     },
     "execution_count": 13,
     "metadata": {},
     "output_type": "execute_result"
    }
   ],
   "source": [
    "# Call function and create DataFrame\n",
    "df_onion = pd.DataFrame(scrape_data('theonion'))\n",
    "\n",
    "# Save data to csv\n",
    "df_onion.to_csv('./data/the_onion.csv')\n",
    "\n",
    "# Shape of DataFrame\n",
    "print(f'df_onion shape: {df_onion.shape}')\n",
    "\n",
    "# Show head\n",
    "df_onion.head()"
   ]
  },
  {
   "cell_type": "code",
   "execution_count": 14,
   "metadata": {},
   "outputs": [],
   "source": [
    "\n",
    "# r/TheOnion DataFrame\n",
    "df_onion = pd.read_csv('./data/the_onion.csv')\n",
    "\n",
    "# r/nottheonion DataFrame\n",
    "df_not_onion = pd.read_csv('./data/not_onion.csv')"
   ]
  },
  {
   "cell_type": "code",
   "execution_count": 15,
   "metadata": {},
   "outputs": [
    {
     "name": "stdout",
     "output_type": "stream",
     "text": [
      "Shape: (15000, 8)\n"
     ]
    },
    {
     "data": {
      "text/html": [
       "<div>\n",
       "<style scoped>\n",
       "    .dataframe tbody tr th:only-of-type {\n",
       "        vertical-align: middle;\n",
       "    }\n",
       "\n",
       "    .dataframe tbody tr th {\n",
       "        vertical-align: top;\n",
       "    }\n",
       "\n",
       "    .dataframe thead th {\n",
       "        text-align: right;\n",
       "    }\n",
       "</style>\n",
       "<table border=\"1\" class=\"dataframe\">\n",
       "  <thead>\n",
       "    <tr style=\"text-align: right;\">\n",
       "      <th></th>\n",
       "      <th>Unnamed: 0</th>\n",
       "      <th>author</th>\n",
       "      <th>domain</th>\n",
       "      <th>num_comments</th>\n",
       "      <th>score</th>\n",
       "      <th>subreddit</th>\n",
       "      <th>timestamp</th>\n",
       "      <th>title</th>\n",
       "    </tr>\n",
       "  </thead>\n",
       "  <tbody>\n",
       "    <tr>\n",
       "      <th>0</th>\n",
       "      <td>0</td>\n",
       "      <td>Jokersi_89</td>\n",
       "      <td>politics.theonion.com</td>\n",
       "      <td>11</td>\n",
       "      <td>1</td>\n",
       "      <td>TheOnion</td>\n",
       "      <td>1579850473</td>\n",
       "      <td>Trump Lifts Obama-Era Protections Trapping Gan...</td>\n",
       "    </tr>\n",
       "    <tr>\n",
       "      <th>1</th>\n",
       "      <td>1</td>\n",
       "      <td>aresef</td>\n",
       "      <td>ogn.theonion.com</td>\n",
       "      <td>1</td>\n",
       "      <td>1</td>\n",
       "      <td>TheOnion</td>\n",
       "      <td>1579813061</td>\n",
       "      <td>‘Kingdom Hearts III’ DLC Developers Panicking ...</td>\n",
       "    </tr>\n",
       "    <tr>\n",
       "      <th>2</th>\n",
       "      <td>2</td>\n",
       "      <td>dwaxe</td>\n",
       "      <td>news.clickhole.com</td>\n",
       "      <td>8</td>\n",
       "      <td>1</td>\n",
       "      <td>TheOnion</td>\n",
       "      <td>1579808486</td>\n",
       "      <td>Fascinating Trend: More And More Women Are Fre...</td>\n",
       "    </tr>\n",
       "    <tr>\n",
       "      <th>3</th>\n",
       "      <td>3</td>\n",
       "      <td>Sanlear</td>\n",
       "      <td>theonion.com</td>\n",
       "      <td>0</td>\n",
       "      <td>1</td>\n",
       "      <td>TheOnion</td>\n",
       "      <td>1579744739</td>\n",
       "      <td>Financial Experts Recommend Just Waiting Until...</td>\n",
       "    </tr>\n",
       "    <tr>\n",
       "      <th>4</th>\n",
       "      <td>4</td>\n",
       "      <td>DerpDuck2233</td>\n",
       "      <td>theonion.com</td>\n",
       "      <td>1</td>\n",
       "      <td>1</td>\n",
       "      <td>TheOnion</td>\n",
       "      <td>1579743627</td>\n",
       "      <td>PornHub Announces Contest To Allow One User Un...</td>\n",
       "    </tr>\n",
       "  </tbody>\n",
       "</table>\n",
       "</div>"
      ],
      "text/plain": [
       "   Unnamed: 0        author                 domain  num_comments  score  \\\n",
       "0           0    Jokersi_89  politics.theonion.com            11      1   \n",
       "1           1        aresef       ogn.theonion.com             1      1   \n",
       "2           2         dwaxe     news.clickhole.com             8      1   \n",
       "3           3       Sanlear           theonion.com             0      1   \n",
       "4           4  DerpDuck2233           theonion.com             1      1   \n",
       "\n",
       "  subreddit   timestamp                                              title  \n",
       "0  TheOnion  1579850473  Trump Lifts Obama-Era Protections Trapping Gan...  \n",
       "1  TheOnion  1579813061  ‘Kingdom Hearts III’ DLC Developers Panicking ...  \n",
       "2  TheOnion  1579808486  Fascinating Trend: More And More Women Are Fre...  \n",
       "3  TheOnion  1579744739  Financial Experts Recommend Just Waiting Until...  \n",
       "4  TheOnion  1579743627  PornHub Announces Contest To Allow One User Un...  "
      ]
     },
     "execution_count": 15,
     "metadata": {},
     "output_type": "execute_result"
    }
   ],
   "source": [
    "# Show first 5 rows of df_onion\n",
    "print(\"Shape:\", df_onion.shape)\n",
    "df_onion.head()"
   ]
  },
  {
   "cell_type": "code",
   "execution_count": 16,
   "metadata": {},
   "outputs": [
    {
     "name": "stdout",
     "output_type": "stream",
     "text": [
      "Shape: (15000, 8)\n"
     ]
    },
    {
     "data": {
      "text/html": [
       "<div>\n",
       "<style scoped>\n",
       "    .dataframe tbody tr th:only-of-type {\n",
       "        vertical-align: middle;\n",
       "    }\n",
       "\n",
       "    .dataframe tbody tr th {\n",
       "        vertical-align: top;\n",
       "    }\n",
       "\n",
       "    .dataframe thead th {\n",
       "        text-align: right;\n",
       "    }\n",
       "</style>\n",
       "<table border=\"1\" class=\"dataframe\">\n",
       "  <thead>\n",
       "    <tr style=\"text-align: right;\">\n",
       "      <th></th>\n",
       "      <th>Unnamed: 0</th>\n",
       "      <th>author</th>\n",
       "      <th>domain</th>\n",
       "      <th>num_comments</th>\n",
       "      <th>score</th>\n",
       "      <th>subreddit</th>\n",
       "      <th>timestamp</th>\n",
       "      <th>title</th>\n",
       "    </tr>\n",
       "  </thead>\n",
       "  <tbody>\n",
       "    <tr>\n",
       "      <th>0</th>\n",
       "      <td>0</td>\n",
       "      <td>TheBatfanTriumphant</td>\n",
       "      <td>joblo.com</td>\n",
       "      <td>0</td>\n",
       "      <td>1</td>\n",
       "      <td>nottheonion</td>\n",
       "      <td>1579882159</td>\n",
       "      <td>Danny McBride is Kanye West's choice to play t...</td>\n",
       "    </tr>\n",
       "    <tr>\n",
       "      <th>1</th>\n",
       "      <td>1</td>\n",
       "      <td>mcready67</td>\n",
       "      <td>marketwatch.com</td>\n",
       "      <td>1</td>\n",
       "      <td>1</td>\n",
       "      <td>nottheonion</td>\n",
       "      <td>1579882156</td>\n",
       "      <td>New Orleans Saints fight to shield Catholic Ch...</td>\n",
       "    </tr>\n",
       "    <tr>\n",
       "      <th>2</th>\n",
       "      <td>2</td>\n",
       "      <td>cowcowcow314</td>\n",
       "      <td>foxnews.com</td>\n",
       "      <td>0</td>\n",
       "      <td>1</td>\n",
       "      <td>nottheonion</td>\n",
       "      <td>1579881926</td>\n",
       "      <td>You’re full of shit.</td>\n",
       "    </tr>\n",
       "    <tr>\n",
       "      <th>3</th>\n",
       "      <td>3</td>\n",
       "      <td>Snakeb1te</td>\n",
       "      <td>theguardian.com</td>\n",
       "      <td>0</td>\n",
       "      <td>1</td>\n",
       "      <td>nottheonion</td>\n",
       "      <td>1579881849</td>\n",
       "      <td>The Wolf of Wall Street's Jordan Belfort sues ...</td>\n",
       "    </tr>\n",
       "    <tr>\n",
       "      <th>4</th>\n",
       "      <td>4</td>\n",
       "      <td>chevymonza</td>\n",
       "      <td>variety.com</td>\n",
       "      <td>2</td>\n",
       "      <td>1</td>\n",
       "      <td>nottheonion</td>\n",
       "      <td>1579881618</td>\n",
       "      <td>Real-Life ‘Wolf of Wall Street’, Jordan Belfor...</td>\n",
       "    </tr>\n",
       "  </tbody>\n",
       "</table>\n",
       "</div>"
      ],
      "text/plain": [
       "   Unnamed: 0               author           domain  num_comments  score  \\\n",
       "0           0  TheBatfanTriumphant        joblo.com             0      1   \n",
       "1           1            mcready67  marketwatch.com             1      1   \n",
       "2           2         cowcowcow314      foxnews.com             0      1   \n",
       "3           3            Snakeb1te  theguardian.com             0      1   \n",
       "4           4           chevymonza      variety.com             2      1   \n",
       "\n",
       "     subreddit   timestamp                                              title  \n",
       "0  nottheonion  1579882159  Danny McBride is Kanye West's choice to play t...  \n",
       "1  nottheonion  1579882156  New Orleans Saints fight to shield Catholic Ch...  \n",
       "2  nottheonion  1579881926                               You’re full of shit.  \n",
       "3  nottheonion  1579881849  The Wolf of Wall Street's Jordan Belfort sues ...  \n",
       "4  nottheonion  1579881618  Real-Life ‘Wolf of Wall Street’, Jordan Belfor...  "
      ]
     },
     "execution_count": 16,
     "metadata": {},
     "output_type": "execute_result"
    }
   ],
   "source": [
    "# Show first 5 rows of df_not_onion\n",
    "print(\"Shape:\", df_not_onion.shape)\n",
    "df_not_onion.head()"
   ]
  },
  {
   "cell_type": "code",
   "execution_count": 17,
   "metadata": {},
   "outputs": [],
   "source": [
    "def clean_data(dataframe):\n",
    "\n",
    "    # Drop duplicate rows\n",
    "    dataframe.drop_duplicates(subset='title', inplace=True)\n",
    "    \n",
    "    # Remove punctation\n",
    "    dataframe['title'] = dataframe['title'].str.replace('[^\\w\\s]',' ')\n",
    "\n",
    "    # Remove numbers \n",
    "    dataframe['title'] = dataframe['title'].str.replace('[^A-Za-z]',' ')\n",
    "\n",
    "    # Make sure any double-spaces are single \n",
    "    dataframe['title'] = dataframe['title'].str.replace('  ',' ')\n",
    "    dataframe['title'] = dataframe['title'].str.replace('  ',' ')\n",
    "\n",
    "    # Transform all text to lowercase\n",
    "    dataframe['title'] = dataframe['title'].str.lower()\n",
    "    \n",
    "    print(\"New shape:\", dataframe.shape)\n",
    "    return dataframe.head()"
   ]
  },
  {
   "cell_type": "code",
   "execution_count": 18,
   "metadata": {},
   "outputs": [
    {
     "name": "stdout",
     "output_type": "stream",
     "text": [
      "New shape: (14171, 8)\n"
     ]
    },
    {
     "data": {
      "text/html": [
       "<div>\n",
       "<style scoped>\n",
       "    .dataframe tbody tr th:only-of-type {\n",
       "        vertical-align: middle;\n",
       "    }\n",
       "\n",
       "    .dataframe tbody tr th {\n",
       "        vertical-align: top;\n",
       "    }\n",
       "\n",
       "    .dataframe thead th {\n",
       "        text-align: right;\n",
       "    }\n",
       "</style>\n",
       "<table border=\"1\" class=\"dataframe\">\n",
       "  <thead>\n",
       "    <tr style=\"text-align: right;\">\n",
       "      <th></th>\n",
       "      <th>Unnamed: 0</th>\n",
       "      <th>author</th>\n",
       "      <th>domain</th>\n",
       "      <th>num_comments</th>\n",
       "      <th>score</th>\n",
       "      <th>subreddit</th>\n",
       "      <th>timestamp</th>\n",
       "      <th>title</th>\n",
       "    </tr>\n",
       "  </thead>\n",
       "  <tbody>\n",
       "    <tr>\n",
       "      <th>0</th>\n",
       "      <td>0</td>\n",
       "      <td>Jokersi_89</td>\n",
       "      <td>politics.theonion.com</td>\n",
       "      <td>11</td>\n",
       "      <td>1</td>\n",
       "      <td>TheOnion</td>\n",
       "      <td>1579850473</td>\n",
       "      <td>trump lifts obama era protections trapping gan...</td>\n",
       "    </tr>\n",
       "    <tr>\n",
       "      <th>1</th>\n",
       "      <td>1</td>\n",
       "      <td>aresef</td>\n",
       "      <td>ogn.theonion.com</td>\n",
       "      <td>1</td>\n",
       "      <td>1</td>\n",
       "      <td>TheOnion</td>\n",
       "      <td>1579813061</td>\n",
       "      <td>kingdom hearts iii dlc developers panicking a...</td>\n",
       "    </tr>\n",
       "    <tr>\n",
       "      <th>2</th>\n",
       "      <td>2</td>\n",
       "      <td>dwaxe</td>\n",
       "      <td>news.clickhole.com</td>\n",
       "      <td>8</td>\n",
       "      <td>1</td>\n",
       "      <td>TheOnion</td>\n",
       "      <td>1579808486</td>\n",
       "      <td>fascinating trend more and more women are free...</td>\n",
       "    </tr>\n",
       "    <tr>\n",
       "      <th>3</th>\n",
       "      <td>3</td>\n",
       "      <td>Sanlear</td>\n",
       "      <td>theonion.com</td>\n",
       "      <td>0</td>\n",
       "      <td>1</td>\n",
       "      <td>TheOnion</td>\n",
       "      <td>1579744739</td>\n",
       "      <td>financial experts recommend just waiting until...</td>\n",
       "    </tr>\n",
       "    <tr>\n",
       "      <th>4</th>\n",
       "      <td>4</td>\n",
       "      <td>DerpDuck2233</td>\n",
       "      <td>theonion.com</td>\n",
       "      <td>1</td>\n",
       "      <td>1</td>\n",
       "      <td>TheOnion</td>\n",
       "      <td>1579743627</td>\n",
       "      <td>pornhub announces contest to allow one user un...</td>\n",
       "    </tr>\n",
       "  </tbody>\n",
       "</table>\n",
       "</div>"
      ],
      "text/plain": [
       "   Unnamed: 0        author                 domain  num_comments  score  \\\n",
       "0           0    Jokersi_89  politics.theonion.com            11      1   \n",
       "1           1        aresef       ogn.theonion.com             1      1   \n",
       "2           2         dwaxe     news.clickhole.com             8      1   \n",
       "3           3       Sanlear           theonion.com             0      1   \n",
       "4           4  DerpDuck2233           theonion.com             1      1   \n",
       "\n",
       "  subreddit   timestamp                                              title  \n",
       "0  TheOnion  1579850473  trump lifts obama era protections trapping gan...  \n",
       "1  TheOnion  1579813061   kingdom hearts iii dlc developers panicking a...  \n",
       "2  TheOnion  1579808486  fascinating trend more and more women are free...  \n",
       "3  TheOnion  1579744739  financial experts recommend just waiting until...  \n",
       "4  TheOnion  1579743627  pornhub announces contest to allow one user un...  "
      ]
     },
     "execution_count": 18,
     "metadata": {},
     "output_type": "execute_result"
    }
   ],
   "source": [
    "# Call `clean_data(dataframe)` function\n",
    "clean_data(df_onion)"
   ]
  },
  {
   "cell_type": "code",
   "execution_count": 19,
   "metadata": {},
   "outputs": [
    {
     "name": "stdout",
     "output_type": "stream",
     "text": [
      "New shape: (11863, 8)\n"
     ]
    },
    {
     "data": {
      "text/html": [
       "<div>\n",
       "<style scoped>\n",
       "    .dataframe tbody tr th:only-of-type {\n",
       "        vertical-align: middle;\n",
       "    }\n",
       "\n",
       "    .dataframe tbody tr th {\n",
       "        vertical-align: top;\n",
       "    }\n",
       "\n",
       "    .dataframe thead th {\n",
       "        text-align: right;\n",
       "    }\n",
       "</style>\n",
       "<table border=\"1\" class=\"dataframe\">\n",
       "  <thead>\n",
       "    <tr style=\"text-align: right;\">\n",
       "      <th></th>\n",
       "      <th>Unnamed: 0</th>\n",
       "      <th>author</th>\n",
       "      <th>domain</th>\n",
       "      <th>num_comments</th>\n",
       "      <th>score</th>\n",
       "      <th>subreddit</th>\n",
       "      <th>timestamp</th>\n",
       "      <th>title</th>\n",
       "    </tr>\n",
       "  </thead>\n",
       "  <tbody>\n",
       "    <tr>\n",
       "      <th>0</th>\n",
       "      <td>0</td>\n",
       "      <td>TheBatfanTriumphant</td>\n",
       "      <td>joblo.com</td>\n",
       "      <td>0</td>\n",
       "      <td>1</td>\n",
       "      <td>nottheonion</td>\n",
       "      <td>1579882159</td>\n",
       "      <td>danny mcbride is kanye west s choice to play t...</td>\n",
       "    </tr>\n",
       "    <tr>\n",
       "      <th>1</th>\n",
       "      <td>1</td>\n",
       "      <td>mcready67</td>\n",
       "      <td>marketwatch.com</td>\n",
       "      <td>1</td>\n",
       "      <td>1</td>\n",
       "      <td>nottheonion</td>\n",
       "      <td>1579882156</td>\n",
       "      <td>new orleans saints fight to shield catholic ch...</td>\n",
       "    </tr>\n",
       "    <tr>\n",
       "      <th>2</th>\n",
       "      <td>2</td>\n",
       "      <td>cowcowcow314</td>\n",
       "      <td>foxnews.com</td>\n",
       "      <td>0</td>\n",
       "      <td>1</td>\n",
       "      <td>nottheonion</td>\n",
       "      <td>1579881926</td>\n",
       "      <td>you re full of shit</td>\n",
       "    </tr>\n",
       "    <tr>\n",
       "      <th>3</th>\n",
       "      <td>3</td>\n",
       "      <td>Snakeb1te</td>\n",
       "      <td>theguardian.com</td>\n",
       "      <td>0</td>\n",
       "      <td>1</td>\n",
       "      <td>nottheonion</td>\n",
       "      <td>1579881849</td>\n",
       "      <td>the wolf of wall street s jordan belfort sues ...</td>\n",
       "    </tr>\n",
       "    <tr>\n",
       "      <th>4</th>\n",
       "      <td>4</td>\n",
       "      <td>chevymonza</td>\n",
       "      <td>variety.com</td>\n",
       "      <td>2</td>\n",
       "      <td>1</td>\n",
       "      <td>nottheonion</td>\n",
       "      <td>1579881618</td>\n",
       "      <td>real life wolf of wall street jordan belfort c...</td>\n",
       "    </tr>\n",
       "  </tbody>\n",
       "</table>\n",
       "</div>"
      ],
      "text/plain": [
       "   Unnamed: 0               author           domain  num_comments  score  \\\n",
       "0           0  TheBatfanTriumphant        joblo.com             0      1   \n",
       "1           1            mcready67  marketwatch.com             1      1   \n",
       "2           2         cowcowcow314      foxnews.com             0      1   \n",
       "3           3            Snakeb1te  theguardian.com             0      1   \n",
       "4           4           chevymonza      variety.com             2      1   \n",
       "\n",
       "     subreddit   timestamp                                              title  \n",
       "0  nottheonion  1579882159  danny mcbride is kanye west s choice to play t...  \n",
       "1  nottheonion  1579882156  new orleans saints fight to shield catholic ch...  \n",
       "2  nottheonion  1579881926                               you re full of shit   \n",
       "3  nottheonion  1579881849  the wolf of wall street s jordan belfort sues ...  \n",
       "4  nottheonion  1579881618  real life wolf of wall street jordan belfort c...  "
      ]
     },
     "execution_count": 19,
     "metadata": {},
     "output_type": "execute_result"
    }
   ],
   "source": [
    "# Call `clean_data(dataframe)` function\n",
    "clean_data(df_not_onion)"
   ]
  },
  {
   "cell_type": "code",
   "execution_count": 20,
   "metadata": {},
   "outputs": [
    {
     "data": {
      "text/html": [
       "<div>\n",
       "<style scoped>\n",
       "    .dataframe tbody tr th:only-of-type {\n",
       "        vertical-align: middle;\n",
       "    }\n",
       "\n",
       "    .dataframe tbody tr th {\n",
       "        vertical-align: top;\n",
       "    }\n",
       "\n",
       "    .dataframe thead th {\n",
       "        text-align: right;\n",
       "    }\n",
       "</style>\n",
       "<table border=\"1\" class=\"dataframe\">\n",
       "  <thead>\n",
       "    <tr style=\"text-align: right;\">\n",
       "      <th></th>\n",
       "      <th>TheOnion</th>\n",
       "      <th>notheonion</th>\n",
       "    </tr>\n",
       "  </thead>\n",
       "  <tbody>\n",
       "    <tr>\n",
       "      <th>Unnamed: 0</th>\n",
       "      <td>0</td>\n",
       "      <td>0</td>\n",
       "    </tr>\n",
       "    <tr>\n",
       "      <th>author</th>\n",
       "      <td>0</td>\n",
       "      <td>0</td>\n",
       "    </tr>\n",
       "    <tr>\n",
       "      <th>domain</th>\n",
       "      <td>0</td>\n",
       "      <td>0</td>\n",
       "    </tr>\n",
       "    <tr>\n",
       "      <th>num_comments</th>\n",
       "      <td>0</td>\n",
       "      <td>0</td>\n",
       "    </tr>\n",
       "    <tr>\n",
       "      <th>score</th>\n",
       "      <td>0</td>\n",
       "      <td>0</td>\n",
       "    </tr>\n",
       "    <tr>\n",
       "      <th>subreddit</th>\n",
       "      <td>0</td>\n",
       "      <td>0</td>\n",
       "    </tr>\n",
       "    <tr>\n",
       "      <th>timestamp</th>\n",
       "      <td>0</td>\n",
       "      <td>0</td>\n",
       "    </tr>\n",
       "    <tr>\n",
       "      <th>title</th>\n",
       "      <td>0</td>\n",
       "      <td>0</td>\n",
       "    </tr>\n",
       "  </tbody>\n",
       "</table>\n",
       "</div>"
      ],
      "text/plain": [
       "              TheOnion  notheonion\n",
       "Unnamed: 0           0           0\n",
       "author               0           0\n",
       "domain               0           0\n",
       "num_comments         0           0\n",
       "score                0           0\n",
       "subreddit            0           0\n",
       "timestamp            0           0\n",
       "title                0           0"
      ]
     },
     "execution_count": 20,
     "metadata": {},
     "output_type": "execute_result"
    }
   ],
   "source": [
    "# Create a DataFrame to check nulls\n",
    "pd.DataFrame([df_onion.isnull().sum(),df_not_onion.isnull().sum()], index=[\"TheOnion\",\"notheonion\"]).T"
   ]
  },
  {
   "cell_type": "code",
   "execution_count": 21,
   "metadata": {},
   "outputs": [
    {
     "name": "stdout",
     "output_type": "stream",
     "text": [
      "TheOnion start date: 2015-12-24 09:46:02\n",
      "TheOnion end date: 2020-01-24 07:21:13\n",
      "nottheonion start date: 2019-11-03 17:55:18\n",
      "nottheonion end date: 2020-01-24 16:09:19\n"
     ]
    }
   ],
   "source": [
    "# Convert Unix Timestamp to Datetime\n",
    "df_onion['timestamp'] = pd.to_datetime(df_onion['timestamp'], unit='s')\n",
    "df_not_onion['timestamp'] = pd.to_datetime(df_not_onion['timestamp'], unit='s')\n",
    "\n",
    "# Show date-range of posts scraped from r/TheOnion and r/nottheonion\n",
    "print(\"TheOnion start date:\", df_onion['timestamp'].min())\n",
    "print(\"TheOnion end date:\", df_onion['timestamp'].max())\n",
    "print(\"nottheonion start date:\", df_not_onion['timestamp'].min())\n",
    "print(\"nottheonion end date:\", df_not_onion['timestamp'].max())"
   ]
  },
  {
   "cell_type": "code",
   "execution_count": 22,
   "metadata": {},
   "outputs": [],
   "source": [
    "def bar_plot(x, y, title, color):    \n",
    "    \n",
    "    # Set up barplot \n",
    "    plt.figure(figsize=(9,5))\n",
    "    g=sns.barplot(x, y, color = color)    \n",
    "    ax=g\n",
    "\n",
    "    # Label the graph\n",
    "    plt.title(title, fontsize = 15)\n",
    "    plt.xticks(fontsize = 10)\n",
    "\n",
    "    # Enable bar values\n",
    "    # Code modified from http://robertmitchellv.com/blog-bar-chart-annotations-pandas-mpl.html\n",
    "    # create a list to collect the plt.patches data\n",
    "    totals = []\n",
    "\n",
    "    # find the values and append to list\n",
    "    for p in ax.patches:\n",
    "        totals.append(p.get_width())\n",
    "\n",
    "    # set individual bar lables using above list\n",
    "    total = sum(totals)\n",
    "\n",
    "    # set individual bar lables using above list\n",
    "    for p in ax.patches:\n",
    "        # get_width pulls left or right; get_y pushes up or down\n",
    "        ax.text(p.get_width()+.3, p.get_y()+.38, \\\n",
    "                int(p.get_width()), fontsize=10)"
   ]
  },
  {
   "cell_type": "markdown",
   "metadata": {},
   "source": [
    "## Most referenced authors in r/TheOnion"
   ]
  },
  {
   "cell_type": "code",
   "execution_count": 23,
   "metadata": {},
   "outputs": [
    {
     "data": {
      "image/png": "[encoded data removed]",
      "text/plain": [
       "<Figure size 648x360 with 1 Axes>"
      ]
     },
     "metadata": {
      "image/png": {
       "height": 320,
       "width": 636
      },
      "needs_background": "light"
     },
     "output_type": "display_data"
    }
   ],
   "source": [
    "# Set x values: # of posts \n",
    "df_onion_authors = df_onion['author'].value_counts() \n",
    "df_onion_authors = df_onion_authors[df_onion_authors > 100].sort_values(ascending=False)\n",
    "\n",
    "# Set y values: Authors \n",
    "df_onion_authors_index = list(df_onion_authors.index)\n",
    "\n",
    "# Call function\n",
    "bar_plot(df_onion_authors.values, df_onion_authors_index, 'Most Active Authors: r/TheOnion', 'r') "
   ]
  },
  {
   "cell_type": "markdown",
   "metadata": {},
   "source": [
    "## Most active authors in r/NotTheOnion"
   ]
  },
  {
   "cell_type": "code",
   "execution_count": 24,
   "metadata": {},
   "outputs": [
    {
     "data": {
      "image/png": "[encoded data removed]",
      "text/plain": [
       "<Figure size 648x360 with 1 Axes>"
      ]
     },
     "metadata": {
      "image/png": {
       "height": 320,
       "width": 596
      },
      "needs_background": "light"
     },
     "output_type": "display_data"
    }
   ],
   "source": [
    "# Set x values: # of posts\n",
    "df_not_onion_authors = df_not_onion['author'].value_counts() \n",
    "df_not_onion_authors = df_not_onion_authors[df_not_onion_authors > 100].sort_values(ascending=False)\n",
    "\n",
    "# Set y values: Authors\n",
    "df_not_onion_authors_index = list(df_not_onion_authors.index)\n",
    "\n",
    "# Call function\n",
    "bar_plot(df_not_onion_authors.values, df_not_onion_authors_index, 'Most Active Authors: r/nottheonion','b') "
   ]
  },
  {
   "cell_type": "code",
   "execution_count": 25,
   "metadata": {},
   "outputs": [
    {
     "data": {
      "image/png": "[encoded data removed]",
      "text/plain": [
       "<Figure size 648x360 with 1 Axes>"
      ]
     },
     "metadata": {
      "image/png": {
       "height": 320,
       "width": 669
      },
      "needs_background": "light"
     },
     "output_type": "display_data"
    }
   ],
   "source": [
    "# Set x values: # of posts\n",
    "df_onion_domain = df_onion['domain'].value_counts() \n",
    "df_onion_domain = df_onion_domain.sort_values(ascending=False).head(5)\n",
    "\n",
    "# Set y values: Domains \n",
    "df_onion_domain_index = list(df_onion_domain.index)\n",
    "\n",
    "# Call function\n",
    "bar_plot(df_onion_domain.values, df_onion_domain_index, 'Most Referenced Domains: r/TheOnion','r') "
   ]
  },
  {
   "cell_type": "code",
   "execution_count": 26,
   "metadata": {},
   "outputs": [
    {
     "data": {
      "image/png": "[encoded data removed]",
      "text/plain": [
       "<Figure size 648x360 with 1 Axes>"
      ]
     },
     "metadata": {
      "image/png": {
       "height": 320,
       "width": 625
      },
      "needs_background": "light"
     },
     "output_type": "display_data"
    }
   ],
   "source": [
    "# Set x values: # of posts greater than 100\n",
    "df_nonion_domain = df_not_onion['domain'].value_counts() \n",
    "df_nonion_domain = df_nonion_domain.sort_values(ascending=False).head(5)\n",
    "\n",
    "# Set y values: Names of authors \n",
    "df_nonion_domain_index = list(df_nonion_domain.index)\n",
    "\n",
    "# Call function\n",
    "bar_plot(df_nonion_domain.values, df_nonion_domain_index, 'Most Referenced Domains: r/nottheonion','b') "
   ]
  },
  {
   "cell_type": "markdown",
   "metadata": {},
   "source": [
    "## Lets do some natural language processing!"
   ]
  },
  {
   "cell_type": "code",
   "execution_count": 27,
   "metadata": {},
   "outputs": [
    {
     "data": {
      "text/html": [
       "<div>\n",
       "<style scoped>\n",
       "    .dataframe tbody tr th:only-of-type {\n",
       "        vertical-align: middle;\n",
       "    }\n",
       "\n",
       "    .dataframe tbody tr th {\n",
       "        vertical-align: top;\n",
       "    }\n",
       "\n",
       "    .dataframe thead th {\n",
       "        text-align: right;\n",
       "    }\n",
       "</style>\n",
       "<table border=\"1\" class=\"dataframe\">\n",
       "  <thead>\n",
       "    <tr style=\"text-align: right;\">\n",
       "      <th></th>\n",
       "      <th>subreddit</th>\n",
       "      <th>title</th>\n",
       "    </tr>\n",
       "  </thead>\n",
       "  <tbody>\n",
       "    <tr>\n",
       "      <th>0</th>\n",
       "      <td>TheOnion</td>\n",
       "      <td>trump lifts obama era protections trapping gan...</td>\n",
       "    </tr>\n",
       "    <tr>\n",
       "      <th>1</th>\n",
       "      <td>TheOnion</td>\n",
       "      <td>kingdom hearts iii dlc developers panicking a...</td>\n",
       "    </tr>\n",
       "  </tbody>\n",
       "</table>\n",
       "</div>"
      ],
      "text/plain": [
       "  subreddit                                              title\n",
       "0  TheOnion  trump lifts obama era protections trapping gan...\n",
       "1  TheOnion   kingdom hearts iii dlc developers panicking a..."
      ]
     },
     "execution_count": 27,
     "metadata": {},
     "output_type": "execute_result"
    }
   ],
   "source": [
    "# Combine df_onion & df_not_onion with only 'subreddit' (target) and 'title' (predictor) columns\n",
    "df = pd.concat([df_onion[['subreddit', 'title']], df_not_onion[['subreddit', 'title']]], axis=0)\n",
    "\n",
    "#Reset the index\n",
    "df = df.reset_index(drop=True)\n",
    "\n",
    "# Preview head of df to show 'TheOnion' titles appear\n",
    "df.head(2)"
   ]
  },
  {
   "cell_type": "code",
   "execution_count": 28,
   "metadata": {},
   "outputs": [
    {
     "data": {
      "text/html": [
       "<div>\n",
       "<style scoped>\n",
       "    .dataframe tbody tr th:only-of-type {\n",
       "        vertical-align: middle;\n",
       "    }\n",
       "\n",
       "    .dataframe tbody tr th {\n",
       "        vertical-align: top;\n",
       "    }\n",
       "\n",
       "    .dataframe thead th {\n",
       "        text-align: right;\n",
       "    }\n",
       "</style>\n",
       "<table border=\"1\" class=\"dataframe\">\n",
       "  <thead>\n",
       "    <tr style=\"text-align: right;\">\n",
       "      <th></th>\n",
       "      <th>subreddit</th>\n",
       "      <th>title</th>\n",
       "    </tr>\n",
       "  </thead>\n",
       "  <tbody>\n",
       "    <tr>\n",
       "      <th>26032</th>\n",
       "      <td>nottheonion</td>\n",
       "      <td>yoga teachers risking serious hip problems</td>\n",
       "    </tr>\n",
       "    <tr>\n",
       "      <th>26033</th>\n",
       "      <td>nottheonion</td>\n",
       "      <td>delta air lines restores same sex love scenes ...</td>\n",
       "    </tr>\n",
       "  </tbody>\n",
       "</table>\n",
       "</div>"
      ],
      "text/plain": [
       "         subreddit                                              title\n",
       "26032  nottheonion        yoga teachers risking serious hip problems \n",
       "26033  nottheonion  delta air lines restores same sex love scenes ..."
      ]
     },
     "execution_count": 28,
     "metadata": {},
     "output_type": "execute_result"
    }
   ],
   "source": [
    "# Preview head of df to show 'nottheonion' titles appear\n",
    "df.tail(2)"
   ]
  },
  {
   "cell_type": "code",
   "execution_count": 29,
   "metadata": {},
   "outputs": [
    {
     "name": "stdout",
     "output_type": "stream",
     "text": [
      "(26034, 2)\n"
     ]
    },
    {
     "data": {
      "text/html": [
       "<div>\n",
       "<style scoped>\n",
       "    .dataframe tbody tr th:only-of-type {\n",
       "        vertical-align: middle;\n",
       "    }\n",
       "\n",
       "    .dataframe tbody tr th {\n",
       "        vertical-align: top;\n",
       "    }\n",
       "\n",
       "    .dataframe thead th {\n",
       "        text-align: right;\n",
       "    }\n",
       "</style>\n",
       "<table border=\"1\" class=\"dataframe\">\n",
       "  <thead>\n",
       "    <tr style=\"text-align: right;\">\n",
       "      <th></th>\n",
       "      <th>subreddit</th>\n",
       "      <th>title</th>\n",
       "    </tr>\n",
       "  </thead>\n",
       "  <tbody>\n",
       "    <tr>\n",
       "      <th>0</th>\n",
       "      <td>1</td>\n",
       "      <td>trump lifts obama era protections trapping gan...</td>\n",
       "    </tr>\n",
       "    <tr>\n",
       "      <th>1</th>\n",
       "      <td>1</td>\n",
       "      <td>kingdom hearts iii dlc developers panicking a...</td>\n",
       "    </tr>\n",
       "  </tbody>\n",
       "</table>\n",
       "</div>"
      ],
      "text/plain": [
       "   subreddit                                              title\n",
       "0          1  trump lifts obama era protections trapping gan...\n",
       "1          1   kingdom hearts iii dlc developers panicking a..."
      ]
     },
     "execution_count": 29,
     "metadata": {},
     "output_type": "execute_result"
    }
   ],
   "source": [
    "# Replace `TheOnion` with 1, `nottheonion` with 0\n",
    "df[\"subreddit\"] = df[\"subreddit\"].map({\"nottheonion\": 0, \"TheOnion\": 1})\n",
    "\n",
    "# Print shape of df\n",
    "print(df.shape)\n",
    "\n",
    "# Preview head of df to show 1s\n",
    "df.head(2)"
   ]
  },
  {
   "cell_type": "code",
   "execution_count": 30,
   "metadata": {},
   "outputs": [
    {
     "data": {
      "text/html": [
       "<div>\n",
       "<style scoped>\n",
       "    .dataframe tbody tr th:only-of-type {\n",
       "        vertical-align: middle;\n",
       "    }\n",
       "\n",
       "    .dataframe tbody tr th {\n",
       "        vertical-align: top;\n",
       "    }\n",
       "\n",
       "    .dataframe thead th {\n",
       "        text-align: right;\n",
       "    }\n",
       "</style>\n",
       "<table border=\"1\" class=\"dataframe\">\n",
       "  <thead>\n",
       "    <tr style=\"text-align: right;\">\n",
       "      <th></th>\n",
       "      <th>subreddit</th>\n",
       "      <th>title</th>\n",
       "    </tr>\n",
       "  </thead>\n",
       "  <tbody>\n",
       "    <tr>\n",
       "      <th>26032</th>\n",
       "      <td>0</td>\n",
       "      <td>yoga teachers risking serious hip problems</td>\n",
       "    </tr>\n",
       "    <tr>\n",
       "      <th>26033</th>\n",
       "      <td>0</td>\n",
       "      <td>delta air lines restores same sex love scenes ...</td>\n",
       "    </tr>\n",
       "  </tbody>\n",
       "</table>\n",
       "</div>"
      ],
      "text/plain": [
       "       subreddit                                              title\n",
       "26032          0        yoga teachers risking serious hip problems \n",
       "26033          0  delta air lines restores same sex love scenes ..."
      ]
     },
     "execution_count": 30,
     "metadata": {},
     "output_type": "execute_result"
    }
   ],
   "source": [
    "# Preview tail of df to show 0s\n",
    "df.tail(2)"
   ]
  },
  {
   "cell_type": "code",
   "execution_count": 31,
   "metadata": {},
   "outputs": [
    {
     "name": "stdout",
     "output_type": "stream",
     "text": [
      "(14171, 14288)\n"
     ]
    }
   ],
   "source": [
    "# Set variables to show TheOnion Titles\n",
    "mask_on = df['subreddit'] == 1\n",
    "df_onion_titles = df[mask_on]['title']\n",
    "\n",
    "# Instantiate a CountVectorizer\n",
    "cv1 = CountVectorizer(stop_words = 'english')\n",
    "\n",
    "# Fit and transform the vectorizer on our corpus\n",
    "onion_cvec = cv1.fit_transform(df_onion_titles)\n",
    "\n",
    "# Convert onion_cvec into a DataFrame\n",
    "onion_cvec_df = pd.DataFrame(onion_cvec.toarray(),\n",
    "                   columns=cv1.get_feature_names())\n",
    "\n",
    "# Inspect head of Onion Titles cvec\n",
    "print(onion_cvec_df.shape)"
   ]
  },
  {
   "cell_type": "code",
   "execution_count": 32,
   "metadata": {},
   "outputs": [
    {
     "name": "stdout",
     "output_type": "stream",
     "text": [
      "(11863, 14619)\n"
     ]
    }
   ],
   "source": [
    "# Set variables to show NotTheOnion Titles\n",
    "mask_no = df['subreddit'] == 0\n",
    "df_not_onion_titles = df[mask_no]['title']\n",
    "\n",
    "# Instantiate a CountVectorizer\n",
    "cv2 = CountVectorizer(stop_words = 'english')\n",
    "\n",
    "# Fit and transform the vectorizer on our corpus\n",
    "not_onion_cvec = cv2.fit_transform(df_not_onion_titles)\n",
    "\n",
    "# Convert onion_cvec into a DataFrame\n",
    "not_onion_cvec_df = pd.DataFrame(not_onion_cvec.toarray(),\n",
    "                   columns=cv2.get_feature_names())\n",
    "\n",
    "# Inspect head of Not Onion Titles cvec\n",
    "print(not_onion_cvec_df.shape)"
   ]
  },
  {
   "cell_type": "code",
   "execution_count": 33,
   "metadata": {},
   "outputs": [
    {
     "data": {
      "image/png": "[encoded data removed]",
      "text/plain": [
       "<Figure size 648x360 with 1 Axes>"
      ]
     },
     "metadata": {
      "image/png": {
       "height": 320,
       "width": 554
      },
      "needs_background": "light"
     },
     "output_type": "display_data"
    }
   ],
   "source": [
    "# Set up variables to contain top 5 most used words in Onion\n",
    "onion_wc = onion_cvec_df.sum(axis = 0)\n",
    "onion_top_5 = onion_wc.sort_values(ascending=False).head(5)\n",
    "\n",
    "# Call function\n",
    "bar_plot(onion_top_5.values, onion_top_5.index, 'Top 5 unigrams on r/TheOnion','r') "
   ]
  },
  {
   "cell_type": "code",
   "execution_count": 34,
   "metadata": {},
   "outputs": [
    {
     "data": {
      "image/png": "[encoded data removed]",
      "text/plain": [
       "<Figure size 648x360 with 1 Axes>"
      ]
     },
     "metadata": {
      "image/png": {
       "height": 320,
       "width": 555
      },
      "needs_background": "light"
     },
     "output_type": "display_data"
    }
   ],
   "source": [
    "# Set up variables to contain top 5 most used words in Onion\n",
    "nonion_wc = not_onion_cvec_df.sum(axis = 0)\n",
    "nonion_top_5 = nonion_wc.sort_values(ascending=False).head(5)\n",
    "\n",
    "# Call function\n",
    "bar_plot(nonion_top_5.values, nonion_top_5.index, 'Top 5 unigrams on r/nottheonion','b') "
   ]
  },
  {
   "cell_type": "code",
   "execution_count": 35,
   "metadata": {},
   "outputs": [
    {
     "data": {
      "text/plain": [
       "{'man', 'new', 'trump'}"
      ]
     },
     "execution_count": 35,
     "metadata": {},
     "output_type": "execute_result"
    }
   ],
   "source": [
    "# Create list of unique words in top five\n",
    "not_onion_5_set = set(nonion_top_5.index)\n",
    "onion_5_set = set(onion_top_5.index)\n",
    "\n",
    "# Return common words\n",
    "common_unigrams = onion_5_set.intersection(not_onion_5_set)\n",
    "common_unigrams"
   ]
  },
  {
   "cell_type": "code",
   "execution_count": 36,
   "metadata": {},
   "outputs": [
    {
     "name": "stdout",
     "output_type": "stream",
     "text": [
      "(14171, 48481)\n"
     ]
    }
   ],
   "source": [
    "# Set variables to show TheOnion Titles\n",
    "mask = df['subreddit'] == 1\n",
    "df_onion_titles = df[mask]['title']\n",
    "\n",
    "# Instantiate a CountVectorizer\n",
    "cv = CountVectorizer(stop_words = 'english', ngram_range=(2,2))\n",
    "\n",
    "# Fit and transform the vectorizer on our corpus\n",
    "onion_cvec = cv.fit_transform(df_onion_titles)\n",
    "\n",
    "# Convert onion_cvec into a DataFrame\n",
    "onion_cvec_df = pd.DataFrame(onion_cvec.toarray(),\n",
    "                   columns=cv.get_feature_names())\n",
    "\n",
    "# Inspect head of Onion Titles cvec\n",
    "print(onion_cvec_df.shape)"
   ]
  },
  {
   "cell_type": "code",
   "execution_count": 37,
   "metadata": {},
   "outputs": [
    {
     "name": "stdout",
     "output_type": "stream",
     "text": [
      "(11863, 59167)\n"
     ]
    }
   ],
   "source": [
    "# Set variables to show NotTheOnion Titles\n",
    "mask = df['subreddit'] == 0\n",
    "df_not_onion_titles = df[mask]['title']\n",
    "\n",
    "# Instantiate a CountVectorizer\n",
    "cv = CountVectorizer(stop_words = 'english', ngram_range=(2,2))\n",
    "\n",
    "# Fit and transform the vectorizer on our corpus\n",
    "not_onion_cvec = cv.fit_transform(df_not_onion_titles)\n",
    "\n",
    "# Convert onion_cvec into a DataFrame\n",
    "not_onion_cvec_df = pd.DataFrame(not_onion_cvec.toarray(),\n",
    "                   columns=cv.get_feature_names())\n",
    "\n",
    "# Inspect head of Not Onion Titles cvec\n",
    "print(not_onion_cvec_df.shape)"
   ]
  },
  {
   "cell_type": "code",
   "execution_count": 38,
   "metadata": {},
   "outputs": [
    {
     "data": {
      "image/png": "[encoded data removed]",
      "text/plain": [
       "<Figure size 648x360 with 1 Axes>"
      ]
     },
     "metadata": {
      "image/png": {
       "height": 320,
       "width": 593
      },
      "needs_background": "light"
     },
     "output_type": "display_data"
    }
   ],
   "source": [
    "# Set up variables to contain top 5 most used bigrams in r/TheOnion\n",
    "onion_wc = onion_cvec_df.sum(axis = 0)\n",
    "onion_top_5 = onion_wc.sort_values(ascending=False).head(5)\n",
    "\n",
    "# Call function\n",
    "bar_plot(onion_top_5.values, onion_top_5.index, 'Top 5 bigrams on r/TheOnion','r') "
   ]
  },
  {
   "cell_type": "code",
   "execution_count": 39,
   "metadata": {},
   "outputs": [
    {
     "data": {
      "image/png": "[encoded data removed]",
      "text/plain": [
       "<Figure size 648x360 with 1 Axes>"
      ]
     },
     "metadata": {
      "image/png": {
       "height": 320,
       "width": 591
      },
      "needs_background": "light"
     },
     "output_type": "display_data"
    }
   ],
   "source": [
    "# Set up variables to contain top 5 most used bigrams in r/nottheonion\n",
    "nonion_wc = not_onion_cvec_df.sum(axis = 0)\n",
    "nonion_top_5 = nonion_wc.sort_values(ascending=False).head(5)\n",
    "\n",
    "# Call function\n",
    "bar_plot(nonion_top_5.values, nonion_top_5.index, 'Top 5 bigrams on r/nottheonion','b') "
   ]
  },
  {
   "cell_type": "code",
   "execution_count": 40,
   "metadata": {},
   "outputs": [
    {
     "data": {
      "text/plain": [
       "{'year old'}"
      ]
     },
     "execution_count": 40,
     "metadata": {},
     "output_type": "execute_result"
    }
   ],
   "source": [
    "not_onion_5_list = set(nonion_top_5.index)\n",
    "onion_5_list = set(onion_top_5.index)\n",
    "\n",
    "# Return common words\n",
    "common_bigrams = onion_5_list.intersection(not_onion_5_list)\n",
    "common_bigrams"
   ]
  },
  {
   "cell_type": "code",
   "execution_count": 41,
   "metadata": {},
   "outputs": [],
   "source": [
    "# Create lists \n",
    "custom = stop_words.ENGLISH_STOP_WORDS\n",
    "custom = list(custom)\n",
    "common_unigrams = list(common_unigrams)\n",
    "common_bigrams = list(common_bigrams)\n",
    "\n",
    "# Append unigrams to list \n",
    "for i in common_unigrams:\n",
    "    custom.append(i)\n",
    "\n",
    "    \n",
    "# Append bigrams to list \n",
    "for i in common_bigrams:\n",
    "    split_words = i.split(\" \")\n",
    "    for word in split_words:\n",
    "        custom.append(word)"
   ]
  },
  {
   "cell_type": "code",
   "execution_count": 42,
   "metadata": {},
   "outputs": [
    {
     "data": {
      "text/plain": [
       "1    0.544327\n",
       "0    0.455673\n",
       "Name: subreddit, dtype: float64"
      ]
     },
     "execution_count": 42,
     "metadata": {},
     "output_type": "execute_result"
    }
   ],
   "source": [
    "# Baseline score\n",
    "df['subreddit'].value_counts(normalize=True)"
   ]
  },
  {
   "cell_type": "code",
   "execution_count": 43,
   "metadata": {},
   "outputs": [],
   "source": [
    "X = df['title']\n",
    "y = df['subreddit']"
   ]
  },
  {
   "cell_type": "code",
   "execution_count": 44,
   "metadata": {},
   "outputs": [],
   "source": [
    "X_train, X_test, y_train, y_test = train_test_split(X,\n",
    "                                                    y,\n",
    "                                                    random_state=42,\n",
    "                                                    stratify=y)"
   ]
  },
  {
   "cell_type": "code",
   "execution_count": 45,
   "metadata": {},
   "outputs": [
    {
     "name": "stdout",
     "output_type": "stream",
     "text": [
      "Best score: 0.8371830985915493\n",
      "Train score 0.9575928297055057\n",
      "Test score 0.8505146719926256\n"
     ]
    },
    {
     "data": {
      "text/plain": [
       "{'cvec__ngram_range': (1, 1), 'cvec__stop_words': None, 'lr__C': 1}"
      ]
     },
     "execution_count": 45,
     "metadata": {},
     "output_type": "execute_result"
    }
   ],
   "source": [
    "pipe = Pipeline([('cvec', CountVectorizer()),    \n",
    "                 ('lr', LogisticRegression(solver='liblinear'))])\n",
    "\n",
    "# Tune GridSearchCV\n",
    "pipe_params = {'cvec__stop_words': [None, 'english', custom],\n",
    "               'cvec__ngram_range': [(1,1), (2,2), (1,3)],\n",
    "               'lr__C': [0.01, 1]}\n",
    "\n",
    "gs = GridSearchCV(pipe, param_grid=pipe_params, cv=3)\n",
    "gs.fit(X_train, y_train);\n",
    "print(\"Best score:\", gs.best_score_)\n",
    "print(\"Train score\", gs.score(X_train, y_train))\n",
    "print(\"Test score\", gs.score(X_test, y_test))\n",
    "\n",
    "gs.best_params_"
   ]
  },
  {
   "cell_type": "code",
   "execution_count": 46,
   "metadata": {},
   "outputs": [
    {
     "name": "stdout",
     "output_type": "stream",
     "text": [
      "Best score: 0.8296542893725992\n",
      "Train score 0.910268886043534\n",
      "Test score 0.8457520356429559\n"
     ]
    },
    {
     "data": {
      "text/plain": [
       "{'lr__C': 1,\n",
       " 'tvect__max_df': 0.75,\n",
       " 'tvect__min_df': 3,\n",
       " 'tvect__ngram_range': (1, 3)}"
      ]
     },
     "execution_count": 46,
     "metadata": {},
     "output_type": "execute_result"
    }
   ],
   "source": [
    "pipe = Pipeline([('tvect', TfidfVectorizer()),    \n",
    "                 ('lr', LogisticRegression(solver='liblinear'))])\n",
    "\n",
    "# Tune GridSearchCV\n",
    "pipe_params = {'tvect__max_df': [.75, .98, 1.0],\n",
    "               'tvect__min_df': [2, 3, 5],\n",
    "               'tvect__ngram_range': [(1,1), (1,2), (1,3)],\n",
    "               'lr__C': [1]}\n",
    "\n",
    "gs = GridSearchCV(pipe, param_grid=pipe_params, cv=3)\n",
    "gs.fit(X_train, y_train);\n",
    "print(\"Best score:\", gs.best_score_)\n",
    "print(\"Train score\", gs.score(X_train, y_train))\n",
    "print(\"Test score\", gs.score(X_test, y_test))\n",
    "\n",
    "gs.best_params_"
   ]
  },
  {
   "cell_type": "code",
   "execution_count": 47,
   "metadata": {},
   "outputs": [
    {
     "name": "stdout",
     "output_type": "stream",
     "text": [
      "Best score: 0.8720102432778489\n",
      "Train score 0.9954417413572343\n",
      "Test score 0.8815486249807958\n"
     ]
    },
    {
     "data": {
      "text/plain": [
       "{'cvec__ngram_range': (1, 3), 'nb__alpha': 0.6}"
      ]
     },
     "execution_count": 47,
     "metadata": {},
     "output_type": "execute_result"
    }
   ],
   "source": [
    "pipe = Pipeline([('cvec', CountVectorizer()),    \n",
    "                 ('nb', MultinomialNB())])\n",
    "\n",
    "# Tune GridSearchCV\n",
    "pipe_params = {'cvec__ngram_range': [(1,1),(1,3)],\n",
    "               'nb__alpha': [.36, .6]}\n",
    "\n",
    "gs = GridSearchCV(pipe, param_grid=pipe_params, cv=3)\n",
    "gs.fit(X_train, y_train);\n",
    "print(\"Best score:\", gs.best_score_)\n",
    "print(\"Train score\", gs.score(X_train, y_train))\n",
    "print(\"Test score\", gs.score(X_test, y_test))\n",
    "\n",
    "gs.best_params_"
   ]
  },
  {
   "cell_type": "code",
   "execution_count": 48,
   "metadata": {},
   "outputs": [
    {
     "name": "stdout",
     "output_type": "stream",
     "text": [
      "Best score: 0.8472215108834827\n",
      "Train score 0.9142125480153649\n",
      "Test score 0.8538946074665847\n"
     ]
    },
    {
     "data": {
      "text/plain": [
       "{'nb__alpha': 0.1,\n",
       " 'tvect__max_df': 0.75,\n",
       " 'tvect__min_df': 4,\n",
       " 'tvect__ngram_range': (1, 2)}"
      ]
     },
     "execution_count": 48,
     "metadata": {},
     "output_type": "execute_result"
    }
   ],
   "source": [
    "pipe = Pipeline([('tvect', TfidfVectorizer()),    \n",
    "                 ('nb', MultinomialNB())])\n",
    "\n",
    "# Tune GridSearchCV\n",
    "pipe_params = {'tvect__max_df': [.75, .98],\n",
    "               'tvect__min_df': [4, 5],\n",
    "               'tvect__ngram_range': [(1,2), (1,3)],\n",
    "               'nb__alpha': [0.1, 1]}\n",
    "\n",
    "gs = GridSearchCV(pipe, param_grid=pipe_params, cv=5)\n",
    "gs.fit(X_train, y_train);\n",
    "print(\"Best score:\", gs.best_score_)\n",
    "print(\"Train score\", gs.score(X_train, y_train))\n",
    "print(\"Test score\", gs.score(X_test, y_test))\n",
    "\n",
    "gs.best_params_"
   ]
  },
  {
   "cell_type": "code",
   "execution_count": 49,
   "metadata": {},
   "outputs": [
    {
     "name": "stdout",
     "output_type": "stream",
     "text": [
      "0.8813949915501613\n"
     ]
    }
   ],
   "source": [
    "#Instantiate the classifier and vectorizer\n",
    "nb = MultinomialNB(alpha = 0.36)\n",
    "cvec = CountVectorizer(ngram_range= (1, 3))\n",
    "\n",
    "# Fit and transform the vectorizor\n",
    "cvec.fit(X_train)\n",
    "\n",
    "Xcvec_train = cvec.transform(X_train)\n",
    "Xcvec_test = cvec.transform(X_test)\n",
    "\n",
    "# Fit the classifier\n",
    "nb.fit(Xcvec_train,y_train)\n",
    "\n",
    "# Create the predictions for Y training data\n",
    "preds = nb.predict(Xcvec_test)\n",
    "\n",
    "print(nb.score(Xcvec_test, y_test))"
   ]
  },
  {
   "cell_type": "code",
   "execution_count": 50,
   "metadata": {},
   "outputs": [
    {
     "data": {
      "text/plain": [
       "array([[2540,  426],\n",
       "       [ 346, 3197]])"
      ]
     },
     "execution_count": 50,
     "metadata": {},
     "output_type": "execute_result"
    }
   ],
   "source": [
    "# Create a confusion matrix\n",
    "cnf_matrix = metrics.confusion_matrix(y_test, preds)\n",
    "cnf_matrix"
   ]
  },
  {
   "cell_type": "code",
   "execution_count": 51,
   "metadata": {},
   "outputs": [
    {
     "data": {
      "text/plain": [
       "Text(0.5, 257.44, 'Predicted label')"
      ]
     },
     "execution_count": 51,
     "metadata": {},
     "output_type": "execute_result"
    },
    {
     "data": {
      "image/png": "[encoded data removed]",
      "text/plain": [
       "<Figure size 432x288 with 2 Axes>"
      ]
     },
     "metadata": {
      "image/png": {
       "height": 307,
       "width": 423
      },
      "needs_background": "light"
     },
     "output_type": "display_data"
    }
   ],
   "source": [
    "\n",
    "# name  of classes\n",
    "class_names=[0,1] \n",
    "\n",
    "# Set fig and axes \n",
    "fig, ax = plt.subplots()\n",
    "tick_marks = np.arange(len(class_names))\n",
    "plt.xticks(tick_marks, class_names)\n",
    "plt.yticks(tick_marks, class_names)\n",
    "\n",
    "# Create heatmap\n",
    "sns.heatmap(pd.DataFrame(cnf_matrix), annot=True, cmap=\"YlGnBu\" ,fmt='g')\n",
    "ax.xaxis.set_label_position(\"top\")\n",
    "plt.tight_layout()\n",
    "plt.title('Confusion matrix', y=1.1)\n",
    "plt.ylabel('Actual label')\n",
    "plt.xlabel('Predicted label')"
   ]
  },
  {
   "cell_type": "code",
   "execution_count": 52,
   "metadata": {},
   "outputs": [],
   "source": [
    "# Assign True Neg, False Pos, False Neg, True Pos variables\n",
    "cnf_matrix = np.array(cnf_matrix).tolist()\n",
    "\n",
    "tn_fp, fn_tp = cnf_matrix\n",
    "\n",
    "tn, fp = tn_fp\n",
    "fn, tp = fn_tp"
   ]
  },
  {
   "cell_type": "code",
   "execution_count": 53,
   "metadata": {},
   "outputs": [
    {
     "name": "stdout",
     "output_type": "stream",
     "text": [
      "Accuracy: 88.14 %\n",
      "Precision: 88.24 %\n",
      "Recall: 90.23 %\n",
      "Specificity: 85.64 %\n",
      "Misclassification Rate: 13.19 %\n"
     ]
    }
   ],
   "source": [
    "# Print Scores \n",
    "\n",
    "print(\"Accuracy:\",round(metrics.accuracy_score(y_test, preds)*100, 2),'%')\n",
    "print(\"Precision:\",round(metrics.precision_score(y_test, preds)*100, 2), '%')\n",
    "print(\"Recall:\",round(metrics.recall_score(y_test, preds)*100, 2), '%')\n",
    "print(\"Specificity:\", round((tn/(tn+fp))*100, 2), '%')\n",
    "print(\"Misclassification Rate:\", round((fp+fn)/(tn+fp+fn+tn)*100, 2), '%')"
   ]
  },
  {
   "cell_type": "code",
   "execution_count": 54,
   "metadata": {},
   "outputs": [],
   "source": [
    "# Customize stop_words to include `onion` so that it doesn't appear\n",
    "# in coefficients \n",
    "\n",
    "stop_words_onion = stop_words.ENGLISH_STOP_WORDS\n",
    "stop_words_onion = list(stop_words_onion)\n",
    "stop_words_onion.append('onion')"
   ]
  },
  {
   "cell_type": "code",
   "execution_count": 55,
   "metadata": {},
   "outputs": [
    {
     "name": "stdout",
     "output_type": "stream",
     "text": [
      "0.8429866338915348\n"
     ]
    }
   ],
   "source": [
    "#Instantiate the classifier and vectorizer\n",
    "lr = LogisticRegression(C = 1.0, solver='liblinear')\n",
    "cvec2 = CountVectorizer(stop_words = stop_words_onion)\n",
    "\n",
    "# Fit and transform the vectorizor\n",
    "cvec2.fit(X_train)\n",
    "\n",
    "Xcvec2_train = cvec2.transform(X_train)\n",
    "Xcvec2_test = cvec2.transform(X_test)\n",
    "\n",
    "# Fit the classifier\n",
    "lr.fit(Xcvec2_train,y_train)\n",
    "\n",
    "# Create the predictions for Y training data\n",
    "lr_preds = lr.predict(Xcvec2_test)\n",
    "\n",
    "print(lr.score(Xcvec2_test, y_test))"
   ]
  },
  {
   "cell_type": "code",
   "execution_count": 56,
   "metadata": {},
   "outputs": [
    {
     "data": {
      "image/png": "[encoded data removed]",
      "text/plain": [
       "<Figure size 576x432 with 1 Axes>"
      ]
     },
     "metadata": {
      "image/png": {
       "height": 406,
       "width": 530
      },
      "needs_background": "light"
     },
     "output_type": "display_data"
    }
   ],
   "source": [
    "# Create list of logistic regression coefficients \n",
    "lr_coef = np.array(lr.coef_).tolist()\n",
    "lr_coef = lr_coef[0]\n",
    "\n",
    "# create dataframe from lasso coef\n",
    "lr_coef = pd.DataFrame(np.round_(lr_coef, decimals=3), \n",
    "cvec2.get_feature_names(), columns = [\"penalized_regression_coefficients\"])\n",
    "\n",
    "# sort the values from high to low\n",
    "lr_coef = lr_coef.sort_values(by = 'penalized_regression_coefficients', \n",
    "ascending = False)\n",
    "\n",
    "# Jasmine changing things up here on out! Top half not mine. \n",
    "# create best and worst performing lasso coef dataframes\n",
    "df_head = lr_coef.head(10)\n",
    "df_tail = lr_coef.tail(10)\n",
    "\n",
    "# merge back together\n",
    "df_merged = pd.concat([df_head, df_tail], axis=0)\n",
    "\n",
    "# plot the sorted dataframe\n",
    "fig, ax = plt.subplots()\n",
    "fig.set_size_inches(8, 6)\n",
    "fig.suptitle('Coefficients!', size=14)\n",
    "ax = sns.barplot(x = 'penalized_regression_coefficients', y= df_merged.index, \n",
    "data=df_merged)\n",
    "ax.set(xlabel='Penalized Regression Coefficients')\n",
    "plt.tight_layout(pad=3, w_pad=0, h_pad=0);"
   ]
  },
  {
   "cell_type": "code",
   "execution_count": 57,
   "metadata": {},
   "outputs": [
    {
     "name": "stdout",
     "output_type": "stream",
     "text": [
      "The word that contributes the most positively to being from r/TheOnion is awesome followed by ftw and mueller .\n",
      "-----------------------------------\n",
      "The word that contributes the most positively to being from r/nottheonion is ok followed by china and arrested .\n"
     ]
    }
   ],
   "source": [
    "print(\"The word that contributes the most positively to being from r/TheOnion is\", \n",
    "      df_merged.index[0], \"followed by\", \n",
    "      df_merged.index[1], \"and\",\n",
    "      df_merged.index[2],\".\")\n",
    "\n",
    "print(\"-----------------------------------\")\n",
    "\n",
    "print(\"The word that contributes the most positively to being from r/nottheonion is\", \n",
    "      df_merged.index[-1], \"followed by\", \n",
    "      df_merged.index[-2], \"and\",\n",
    "      df_merged.index[-3],\".\")"
   ]
  },
  {
   "cell_type": "code",
   "execution_count": 58,
   "metadata": {},
   "outputs": [
    {
     "data": {
      "text/html": [
       "<div>\n",
       "<style scoped>\n",
       "    .dataframe tbody tr th:only-of-type {\n",
       "        vertical-align: middle;\n",
       "    }\n",
       "\n",
       "    .dataframe tbody tr th {\n",
       "        vertical-align: top;\n",
       "    }\n",
       "\n",
       "    .dataframe thead th {\n",
       "        text-align: right;\n",
       "    }\n",
       "</style>\n",
       "<table border=\"1\" class=\"dataframe\">\n",
       "  <thead>\n",
       "    <tr style=\"text-align: right;\">\n",
       "      <th></th>\n",
       "      <th>penalized_regression_coefficients</th>\n",
       "      <th>exp</th>\n",
       "    </tr>\n",
       "  </thead>\n",
       "  <tbody>\n",
       "    <tr>\n",
       "      <th>awesome</th>\n",
       "      <td>1.974</td>\n",
       "      <td>7.199417</td>\n",
       "    </tr>\n",
       "    <tr>\n",
       "      <th>ftw</th>\n",
       "      <td>1.948</td>\n",
       "      <td>7.014644</td>\n",
       "    </tr>\n",
       "    <tr>\n",
       "      <th>mueller</th>\n",
       "      <td>1.936</td>\n",
       "      <td>6.930972</td>\n",
       "    </tr>\n",
       "    <tr>\n",
       "      <th>heartwarming</th>\n",
       "      <td>1.928</td>\n",
       "      <td>6.875745</td>\n",
       "    </tr>\n",
       "    <tr>\n",
       "      <th>fucking</th>\n",
       "      <td>1.893</td>\n",
       "      <td>6.639257</td>\n",
       "    </tr>\n",
       "    <tr>\n",
       "      <th>clickhole</th>\n",
       "      <td>1.876</td>\n",
       "      <td>6.527343</td>\n",
       "    </tr>\n",
       "    <tr>\n",
       "      <th>heartbreaking</th>\n",
       "      <td>1.851</td>\n",
       "      <td>6.366183</td>\n",
       "    </tr>\n",
       "    <tr>\n",
       "      <th>nation</th>\n",
       "      <td>1.760</td>\n",
       "      <td>5.812437</td>\n",
       "    </tr>\n",
       "    <tr>\n",
       "      <th>pretty</th>\n",
       "      <td>1.666</td>\n",
       "      <td>5.290962</td>\n",
       "    </tr>\n",
       "    <tr>\n",
       "      <th>beautiful</th>\n",
       "      <td>1.639</td>\n",
       "      <td>5.150017</td>\n",
       "    </tr>\n",
       "  </tbody>\n",
       "</table>\n",
       "</div>"
      ],
      "text/plain": [
       "               penalized_regression_coefficients       exp\n",
       "awesome                                    1.974  7.199417\n",
       "ftw                                        1.948  7.014644\n",
       "mueller                                    1.936  6.930972\n",
       "heartwarming                               1.928  6.875745\n",
       "fucking                                    1.893  6.639257\n",
       "clickhole                                  1.876  6.527343\n",
       "heartbreaking                              1.851  6.366183\n",
       "nation                                     1.760  5.812437\n",
       "pretty                                     1.666  5.290962\n",
       "beautiful                                  1.639  5.150017"
      ]
     },
     "execution_count": 58,
     "metadata": {},
     "output_type": "execute_result"
    }
   ],
   "source": [
    "# Show coefficients that affect r/TheOnion\n",
    "df_merged_head = df_merged.head(10)\n",
    "exp = df_merged_head['penalized_regression_coefficients'].apply(lambda x: np.exp(x))\n",
    "df_merged_head.insert(1, 'exp', exp)\n",
    "df_merged_head.sort_values('exp', ascending=False)"
   ]
  },
  {
   "cell_type": "code",
   "execution_count": 59,
   "metadata": {},
   "outputs": [
    {
     "name": "stdout",
     "output_type": "stream",
     "text": [
      "As occurences of awesome increase by 1 in a title, that title is 7.2 times as likely to be classified as r/TheOnion.\n"
     ]
    }
   ],
   "source": [
    "print(\"As occurences of\", df_merged_head.index[0], \"increase by 1 in a title, that title is\", \n",
    "      round(df_merged_head['exp'][0],2), \"times as likely to be classified as r/TheOnion.\")"
   ]
  },
  {
   "cell_type": "code",
   "execution_count": 60,
   "metadata": {},
   "outputs": [
    {
     "data": {
      "text/html": [
       "<div>\n",
       "<style scoped>\n",
       "    .dataframe tbody tr th:only-of-type {\n",
       "        vertical-align: middle;\n",
       "    }\n",
       "\n",
       "    .dataframe tbody tr th {\n",
       "        vertical-align: top;\n",
       "    }\n",
       "\n",
       "    .dataframe thead th {\n",
       "        text-align: right;\n",
       "    }\n",
       "</style>\n",
       "<table border=\"1\" class=\"dataframe\">\n",
       "  <thead>\n",
       "    <tr style=\"text-align: right;\">\n",
       "      <th></th>\n",
       "      <th>penalized_regression_coefficients</th>\n",
       "      <th>exp</th>\n",
       "    </tr>\n",
       "  </thead>\n",
       "  <tbody>\n",
       "    <tr>\n",
       "      <th>ok</th>\n",
       "      <td>-2.673</td>\n",
       "      <td>14.483354</td>\n",
       "    </tr>\n",
       "    <tr>\n",
       "      <th>china</th>\n",
       "      <td>-2.472</td>\n",
       "      <td>11.846115</td>\n",
       "    </tr>\n",
       "    <tr>\n",
       "      <th>arrested</th>\n",
       "      <td>-2.464</td>\n",
       "      <td>11.751725</td>\n",
       "    </tr>\n",
       "    <tr>\n",
       "      <th>florida</th>\n",
       "      <td>-2.460</td>\n",
       "      <td>11.704812</td>\n",
       "    </tr>\n",
       "    <tr>\n",
       "      <th>meth</th>\n",
       "      <td>-2.458</td>\n",
       "      <td>11.681425</td>\n",
       "    </tr>\n",
       "    <tr>\n",
       "      <th>police</th>\n",
       "      <td>-2.448</td>\n",
       "      <td>11.565193</td>\n",
       "    </tr>\n",
       "    <tr>\n",
       "      <th>christmas</th>\n",
       "      <td>-2.334</td>\n",
       "      <td>10.319136</td>\n",
       "    </tr>\n",
       "    <tr>\n",
       "      <th>youlikebet</th>\n",
       "      <td>-2.326</td>\n",
       "      <td>10.236912</td>\n",
       "    </tr>\n",
       "    <tr>\n",
       "      <th>accused</th>\n",
       "      <td>-2.208</td>\n",
       "      <td>9.097503</td>\n",
       "    </tr>\n",
       "    <tr>\n",
       "      <th>fart</th>\n",
       "      <td>-2.200</td>\n",
       "      <td>9.025013</td>\n",
       "    </tr>\n",
       "  </tbody>\n",
       "</table>\n",
       "</div>"
      ],
      "text/plain": [
       "            penalized_regression_coefficients        exp\n",
       "ok                                     -2.673  14.483354\n",
       "china                                  -2.472  11.846115\n",
       "arrested                               -2.464  11.751725\n",
       "florida                                -2.460  11.704812\n",
       "meth                                   -2.458  11.681425\n",
       "police                                 -2.448  11.565193\n",
       "christmas                              -2.334  10.319136\n",
       "youlikebet                             -2.326  10.236912\n",
       "accused                                -2.208   9.097503\n",
       "fart                                   -2.200   9.025013"
      ]
     },
     "execution_count": 60,
     "metadata": {},
     "output_type": "execute_result"
    }
   ],
   "source": [
    "# Show coefficients that affect r/nottheonion\n",
    "df_merged_tail = df_merged.tail(10)\n",
    "exp = df_merged_tail['penalized_regression_coefficients'].apply(lambda x: np.exp(x * -1))\n",
    "df_merged_tail.insert(1, 'exp', exp)\n",
    "df_merged_tail.sort_values('exp', ascending=False)"
   ]
  },
  {
   "cell_type": "code",
   "execution_count": 61,
   "metadata": {},
   "outputs": [
    {
     "name": "stdout",
     "output_type": "stream",
     "text": [
      "As occurences of ok increase by 1 in a title, that title is 14.48 times as likely to be classified as r/nottheonion.\n"
     ]
    }
   ],
   "source": [
    "print(\"As occurences of\", df_merged_tail.index[-1], \"increase by 1 in a title, that title is\", \n",
    "      round(df_merged_tail['exp'][-1],2), \"times as likely to be classified as r/nottheonion.\")"
   ]
  },
  {
   "cell_type": "code",
   "execution_count": null,
   "metadata": {},
   "outputs": [],
   "source": []
  }
 ],
 "metadata": {
  "kernelspec": {
   "display_name": "Python 3",
   "language": "python",
   "name": "python3"
  },
  "language_info": {
   "codemirror_mode": {
    "name": "ipython",
    "version": 3
   },
   "file_extension": ".py",
   "mimetype": "text/x-python",
   "name": "python",
   "nbconvert_exporter": "python",
   "pygments_lexer": "ipython3",
   "version": "3.7.3"
  }
 },
 "nbformat": 4,
 "nbformat_minor": 2
}
